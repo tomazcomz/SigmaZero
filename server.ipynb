{
 "cells": [
  {
   "cell_type": "code",
   "execution_count": 1,
   "metadata": {},
   "outputs": [
    {
     "name": "stdout",
     "output_type": "stream",
     "text": [
      "pygame 2.5.2 (SDL 2.28.3, Python 3.11.5)\n",
      "Hello from the pygame community. https://www.pygame.org/contribute.html\n"
     ]
    }
   ],
   "source": [
    "import numpy as np\n",
    "import socket\n",
    "import time\n",
    "from Go import GameState as Go, check_possible_moves, is_game_finished as is_game_finished_go, setScreen, drawBoard, drawPieces\n",
    "from Attaxx import GameState as Attaxx, _executeMov as execute_move, _objective_test as is_game_finished_attaxx, get_moves\n",
    "import pygame"
   ]
  },
  {
   "cell_type": "code",
   "execution_count": 2,
   "metadata": {},
   "outputs": [],
   "source": [
    "games = [\"A4x4\", \"A5x5\", \"A6x6\", \"G7x7\", \"G9x9\"]\n",
    "# game = games[0]     # ATTAXX\n",
    "game = games[3]     # GO"
   ]
  },
  {
   "cell_type": "code",
   "execution_count": 3,
   "metadata": {},
   "outputs": [],
   "source": [
    "def is_move_valid_go(game,move):    # implementing the logic to check if the move is valid\n",
    "    return move in check_possible_moves(game)"
   ]
  },
  {
   "cell_type": "code",
   "execution_count": 4,
   "metadata": {},
   "outputs": [],
   "source": [
    "def start_server_go(host='localhost', port=12345):\n",
    "    server_socket = socket.socket(socket.AF_INET, socket.SOCK_STREAM)\n",
    "    server_socket.bind((host, port))\n",
    "    server_socket.listen(2)\n",
    "\n",
    "    print(\"Waiting for two agents to connect...\")\n",
    "    agent1, addr1 = server_socket.accept()\n",
    "    print(\"Agent 1 connected from\", addr1)\n",
    "    bs=b'AG1 '+game.encode()\n",
    "    agent1.sendall(bs)\n",
    "\n",
    "    agent2, addr2 = server_socket.accept()\n",
    "    print(\"Agent 2 connected from\", addr2)\n",
    "    bs=b'AG2 '+game.encode()\n",
    "    agent2.sendall(bs)\n",
    "       \n",
    "    n = int(game[1])\n",
    "    initial_board = np.zeros((n, n),dtype=int)     # initializing an empty board of size (n x n)\n",
    "    GameState = Go(initial_board)    # initializing the game\n",
    "    \n",
    "    pygame.init()\n",
    "    screen = setScreen()    # setting the screen for graphical display\n",
    "    drawBoard(GameState, screen)\n",
    "    pygame.display.update()\n",
    "\n",
    "    agents = [agent1, agent2]\n",
    "    current_agent = 0\n",
    "\n",
    "    jog=0\n",
    "    \n",
    "    while True:\n",
    "        try:\n",
    "            data = agents[current_agent].recv(1024).decode()\n",
    "            if not data:\n",
    "                break\n",
    "\n",
    "            if data == \"PASS\":\n",
    "                agents[current_agent].sendall(b'VALID')\n",
    "                agents[1-current_agent].sendall(data.encode())\n",
    "                GameState.pass_turn()\n",
    "            else:\n",
    "                # processing the move (example: \"MOVE X,Y\")\n",
    "                i = int(data[5])\n",
    "                j = int(data[7])\n",
    "                if current_agent == 0:\n",
    "                    print(\"Agent 1 -> \",data)\n",
    "                else:\n",
    "                    print(\"Agent 2 -> \",data)\n",
    "                jog = jog+1\n",
    "                \n",
    "                # checking if the move is valid and, if so, executing it\n",
    "                if is_move_valid_go(GameState,(i,j)):\n",
    "                    agents[current_agent].sendall(b'VALID')\n",
    "                    agents[1-current_agent].sendall(data.encode())\n",
    "                    GameState = GameState.move((i,j))\n",
    "                    time.sleep(0.1)\n",
    "                    drawBoard(GameState, screen)\n",
    "                    drawPieces(GameState, screen)\n",
    "                else:\n",
    "                    agents[current_agent].sendall(b'INVALID')\n",
    "                    continue\n",
    "                \n",
    "            pygame.display.update()\n",
    "                \n",
    "            # checking if the game is over\n",
    "            if is_game_finished_go(GameState):\n",
    "                GameState.end_game()\n",
    "                winner = GameState.winner\n",
    "                if winner == -1:\n",
    "                    winner = 2\n",
    "                p1_score = GameState.scores[1]\n",
    "                p2_score = GameState.scores[-1]\n",
    "                data = \"END \" + str(winner) + \" \" + str(p1_score) + \" \" + str(p2_score)\n",
    "                agents[current_agent].sendall(data.encode())\n",
    "                agents[1-current_agent].sendall(data.encode())\n",
    "                pygame.quit()\n",
    "                break\n",
    "                \n",
    "            # Switch to the other agent\n",
    "            current_agent = 1-current_agent\n",
    "            time.sleep(1)\n",
    "\n",
    "        except Exception as e:\n",
    "            print(\"Error:\", e)\n",
    "            break\n",
    "\n",
    "    print(\"\\n-----------------\\nGAME END\\n-----------------\\n\")\n",
    "    time.sleep(1)\n",
    "    agent1.close()\n",
    "    agent2.close()\n",
    "    server_socket.close()"
   ]
  },
  {
   "cell_type": "code",
   "execution_count": 5,
   "metadata": {},
   "outputs": [],
   "source": [
    "def create_board_attaxx(n):\n",
    "    board = np.zeros((n, n),dtype=int)\n",
    "    board[0][0] = board[n-1][n-1] = 1\n",
    "    board[n-1][0] = board[0][n-1] = 2\n",
    "    return board"
   ]
  },
  {
   "cell_type": "code",
   "execution_count": 6,
   "metadata": {},
   "outputs": [],
   "source": [
    "def is_move_valid_attaxx(GameState,i,j,i2,j2):\n",
    "    possible_moves = [(1,0),(2,0),(1,1),(2,2),(1,-1),(2,-2),(-1,0),(-2,0),(-1,1),(-2,-2),(0,1),(0,2),(0,-1),(0,-2),(-1,-1),(-2,2)]\n",
    "    move = (i2-i,j2-j)\n",
    "    if move not in possible_moves:\n",
    "        return False\n",
    "    moves = get_moves(GameState,(i,j))\n",
    "    return moves[move][0]"
   ]
  },
  {
   "cell_type": "code",
   "execution_count": 7,
   "metadata": {},
   "outputs": [],
   "source": [
    "def start_server_attaxx(host='localhost', port=12345):\n",
    "    server_socket = socket.socket(socket.AF_INET, socket.SOCK_STREAM)\n",
    "    server_socket.bind((host, port))\n",
    "    server_socket.listen(2)\n",
    "\n",
    "    print(\"Waiting for two agents to connect...\")\n",
    "    agent1, addr1 = server_socket.accept()\n",
    "    print(\"Agent 1 connected from\", addr1)\n",
    "    bs=b'AG1 '+game.encode()\n",
    "    agent1.sendall(bs)\n",
    "\n",
    "    agent2, addr2 = server_socket.accept()\n",
    "    print(\"Agent 2 connected from\", addr2)\n",
    "    bs=b'AG2 '+game.encode()\n",
    "    agent2.sendall(bs)\n",
    "       \n",
    "    n = int(game[1])\n",
    "    initial_board = create_board_attaxx(n)     # initializing an empty board of size (n x n)\n",
    "    GameState = Attaxx(initial_board)    # initializing the game\n",
    "\n",
    "    agents = [agent1, agent2]\n",
    "    current_agent = 0\n",
    "\n",
    "    jog=0\n",
    "    \n",
    "    while True:\n",
    "        try:\n",
    "            data = agents[current_agent].recv(1024).decode()\n",
    "            if not data:\n",
    "                break\n",
    "\n",
    "            # processing the move (example: \"MOVE X,Y,X2,Y2\")\n",
    "            i = int(data[5])\n",
    "            j = int(data[7])\n",
    "            i2 = int(data[9])\n",
    "            j2 = int(data[11])\n",
    "            if current_agent == 0:\n",
    "                print(\"Agent 1 -> \",data)\n",
    "            else:\n",
    "                print(\"Agent 2 -> \",data)\n",
    "            jog = jog+1\n",
    "            \n",
    "            # checking if the move is valid and, if so, executing it\n",
    "            if is_move_valid_attaxx(GameState,i,j,i2,j2):\n",
    "                agents[current_agent].sendall(b'VALID')\n",
    "                agents[1-current_agent].sendall(data.encode())\n",
    "                GameState = execute_move(GameState,(i,j),(i2,j2),player_id=current_agent+1)\n",
    "            else:\n",
    "                agents[current_agent].sendall(b'INVALID')\n",
    "                continue\n",
    "\n",
    "            # checking if the game is over\n",
    "            value,score1,score2 = is_game_finished_attaxx(GameState,player=current_agent+1)   # -1 if game is not over, 0 if it's a draw, 1 if player 1 won and 2 if player 2 won \n",
    "            if value != -1:\n",
    "                result = value\n",
    "                if result == 1:\n",
    "                    p1_score = score1\n",
    "                    p2_score = score2\n",
    "                else:\n",
    "                    p2_score = score1\n",
    "                    p1_score = score2\n",
    "                data = \"END \" + str(result) + \" \" + str(p1_score) + \" \" + str(p2_score)\n",
    "                agents[current_agent].sendall(data.encode())\n",
    "                agents[1-current_agent].sendall(data.encode())\n",
    "                break\n",
    "                \n",
    "            # Switch to the other agent\n",
    "            current_agent = 1-current_agent\n",
    "            time.sleep(1)\n",
    "\n",
    "        except Exception as e:\n",
    "            print(\"Error:\", e)\n",
    "            break\n",
    "\n",
    "    print(\"\\n-----------------\\nGAME END\\n-----------------\\n\")\n",
    "    time.sleep(1)\n",
    "    agent1.close()\n",
    "    agent2.close()\n",
    "    server_socket.close()"
   ]
  },
  {
   "cell_type": "code",
   "execution_count": 8,
   "metadata": {},
   "outputs": [
    {
     "name": "stdout",
     "output_type": "stream",
     "text": [
      "Waiting for two agents to connect...\n"
     ]
    },
    {
     "name": "stdout",
     "output_type": "stream",
     "text": [
      "Agent 1 connected from ('127.0.0.1', 60701)\n",
      "Agent 2 connected from ('127.0.0.1', 60702)\n",
      "Agent 1 ->  MOVE 2,5\n",
      "Agent 2 ->  MOVE 2,2\n",
      "Agent 1 ->  MOVE 6,6\n",
      "Agent 2 ->  MOVE 0,1\n"
     ]
    },
    {
     "ename": "KeyboardInterrupt",
     "evalue": "",
     "output_type": "error",
     "traceback": [
      "\u001b[1;31m---------------------------------------------------------------------------\u001b[0m",
      "\u001b[1;31mKeyboardInterrupt\u001b[0m                         Traceback (most recent call last)",
      "Cell \u001b[1;32mIn[8], line 3\u001b[0m\n\u001b[0;32m      1\u001b[0m \u001b[38;5;28;01mif\u001b[39;00m \u001b[38;5;18m__name__\u001b[39m \u001b[38;5;241m==\u001b[39m \u001b[38;5;124m\"\u001b[39m\u001b[38;5;124m__main__\u001b[39m\u001b[38;5;124m\"\u001b[39m:\n\u001b[0;32m      2\u001b[0m     \u001b[38;5;28;01mif\u001b[39;00m game[\u001b[38;5;241m0\u001b[39m]\u001b[38;5;241m==\u001b[39m\u001b[38;5;124m'\u001b[39m\u001b[38;5;124mG\u001b[39m\u001b[38;5;124m'\u001b[39m:\n\u001b[1;32m----> 3\u001b[0m         start_server_go()\n\u001b[0;32m      4\u001b[0m     \u001b[38;5;28;01melif\u001b[39;00m game[\u001b[38;5;241m0\u001b[39m]\u001b[38;5;241m==\u001b[39m\u001b[38;5;124m'\u001b[39m\u001b[38;5;124mA\u001b[39m\u001b[38;5;124m'\u001b[39m:\n\u001b[0;32m      5\u001b[0m         start_server_attaxx()\n",
      "Cell \u001b[1;32mIn[4], line 80\u001b[0m, in \u001b[0;36mstart_server_go\u001b[1;34m(host, port)\u001b[0m\n\u001b[0;32m     78\u001b[0m     \u001b[38;5;66;03m# Switch to the other agent\u001b[39;00m\n\u001b[0;32m     79\u001b[0m     current_agent \u001b[38;5;241m=\u001b[39m \u001b[38;5;241m1\u001b[39m\u001b[38;5;241m-\u001b[39mcurrent_agent\n\u001b[1;32m---> 80\u001b[0m     time\u001b[38;5;241m.\u001b[39msleep(\u001b[38;5;241m5\u001b[39m)\n\u001b[0;32m     82\u001b[0m \u001b[38;5;28;01mexcept\u001b[39;00m \u001b[38;5;167;01mException\u001b[39;00m \u001b[38;5;28;01mas\u001b[39;00m e:\n\u001b[0;32m     83\u001b[0m     \u001b[38;5;28mprint\u001b[39m(\u001b[38;5;124m\"\u001b[39m\u001b[38;5;124mError:\u001b[39m\u001b[38;5;124m\"\u001b[39m, e)\n",
      "\u001b[1;31mKeyboardInterrupt\u001b[0m: "
     ]
    },
    {
     "ename": "",
     "evalue": "",
     "output_type": "error",
     "traceback": [
      "\u001b[1;31mThe Kernel crashed while executing code in the the current cell or a previous cell. Please review the code in the cell(s) to identify a possible cause of the failure. Click <a href='https://aka.ms/vscodeJupyterKernelCrash'>here</a> for more info. View Jupyter <a href='command:jupyter.viewOutput'>log</a> for further details."
     ]
    }
   ],
   "source": [
    "if __name__ == \"__main__\":\n",
    "    if game[0]=='G':\n",
    "        start_server_go()\n",
    "    elif game[0]=='A':\n",
    "        start_server_attaxx()"
   ]
  }
 ],
 "metadata": {
  "kernelspec": {
   "display_name": "base",
   "language": "python",
   "name": "python3"
  },
  "language_info": {
   "codemirror_mode": {
    "name": "ipython",
    "version": 3
   },
   "file_extension": ".py",
   "mimetype": "text/x-python",
   "name": "python",
   "nbconvert_exporter": "python",
   "pygments_lexer": "ipython3",
   "version": "3.11.5"
  }
 },
 "nbformat": 4,
 "nbformat_minor": 2
}
