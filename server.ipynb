{
 "cells": [
  {
   "cell_type": "code",
   "execution_count": 1,
   "metadata": {},
   "outputs": [
    {
     "name": "stdout",
     "output_type": "stream",
     "text": [
      "pygame 2.5.2 (SDL 2.28.3, Python 3.11.5)\n",
      "Hello from the pygame community. https://www.pygame.org/contribute.html\n"
     ]
    }
   ],
   "source": [
    "import numpy as np\n",
    "import socket\n",
    "import time\n",
    "from Go import GameState as Go, check_possible_moves, is_game_finished, setScreen, drawBoard, drawPieces"
   ]
  },
  {
   "cell_type": "code",
   "execution_count": 2,
   "metadata": {},
   "outputs": [],
   "source": [
    "games = [\"A4x4\", \"A5x5\", \"A6x6\", \"G7x7\", \"G9x9\"]\n",
    "game = games[3]"
   ]
  },
  {
   "cell_type": "code",
   "execution_count": 3,
   "metadata": {},
   "outputs": [],
   "source": [
    "def is_valid_move_go(game,i,j):    # implementing the logic to check if the move is valid\n",
    "    return (i,j) in check_possible_moves(game)"
   ]
  },
  {
   "cell_type": "code",
   "execution_count": 4,
   "metadata": {},
   "outputs": [],
   "source": [
    "def start_server_go(host='localhost', port=12345):\n",
    "    server_socket = socket.socket(socket.AF_INET, socket.SOCK_STREAM)\n",
    "    server_socket.bind((host, port))\n",
    "    server_socket.listen(2)\n",
    "\n",
    "    print(\"Waiting for two agents to connect...\")\n",
    "    agent1, addr1 = server_socket.accept()\n",
    "    print(\"Agent 1 connected from\", addr1)\n",
    "    bs=b'AG1 '+game.encode()\n",
    "    agent1.sendall(bs)\n",
    "\n",
    "    agent2, addr2 = server_socket.accept()\n",
    "    print(\"Agent 2 connected from\", addr2)\n",
    "    bs=b'AG2 '+game.encode()\n",
    "    agent2.sendall(bs)\n",
    "       \n",
    "    n = int(game[1])\n",
    "    initial_board = np.zeros((n, n),dtype=int)     # initializing an empty board of size (n x n)\n",
    "    GameState = Go(initial_board)    # initializing the game\n",
    "    # screen = setScreen()    # setting the screen for graphical display\n",
    "\n",
    "    agents = [agent1, agent2]\n",
    "    current_agent = 0\n",
    "\n",
    "    jog=0\n",
    "    \n",
    "    while True:\n",
    "        try:\n",
    "            data = agents[current_agent].recv(1024).decode()\n",
    "            if not data:\n",
    "                break\n",
    "\n",
    "            if data == \"PASS\":\n",
    "                agents[current_agent].sendall(b'VALID')\n",
    "                agents[1-current_agent].sendall(data.encode())\n",
    "                GameState.pass_turn()\n",
    "            else:\n",
    "                # processing the move (example: \"MOVE X,Y\")\n",
    "                i = int(data[5])\n",
    "                j = int(data[7])\n",
    "                if current_agent == 0:\n",
    "                    print(\"Agent 1 -> \",data)\n",
    "                else:\n",
    "                    print(\"Agent 2 -> \",data)\n",
    "                jog = jog+1\n",
    "                \n",
    "                # checking if the move is valid and, if so, executing it\n",
    "                if is_valid_move_go(GameState,i,j):\n",
    "                    agents[current_agent].sendall(b'VALID')\n",
    "                    agents[1-current_agent].sendall(data.encode())\n",
    "                    GameState = GameState.move(i,j)\n",
    "                    # drawBoard(GameState, screen)\n",
    "                    # drawPieces(GameState, screen)\n",
    "                else:\n",
    "                    agents[current_agent].sendall(b'INVALID')\n",
    "                    continue\n",
    "                \n",
    "            # checking if the game is over\n",
    "            if is_game_finished(GameState):\n",
    "                GameState.end_game()\n",
    "                winner = GameState.winner\n",
    "                p1_score = GameState.scores[1]\n",
    "                p2_score = GameState.scores[-1]\n",
    "                data = \"END \" + str(winner) + \" \" + str(p1_score) + \" \" + str(p2_score)\n",
    "                agents[current_agent].sendall(data.encode())\n",
    "                agents[1-current_agent].sendall(data.encode())\n",
    "                break\n",
    "                \n",
    "            # Switch to the other agent\n",
    "            current_agent = 1-current_agent\n",
    "            time.sleep(1)\n",
    "\n",
    "        except Exception as e:\n",
    "            print(\"Error:\", e)\n",
    "            break\n",
    "\n",
    "    print(\"\\n-----------------\\nGAME END\\n-----------------\\n\")\n",
    "    time.sleep(1)\n",
    "    agent1.close()\n",
    "    agent2.close()\n",
    "    server_socket.close()\n"
   ]
  },
  {
   "cell_type": "code",
   "execution_count": null,
   "metadata": {},
   "outputs": [],
   "source": [
    "def start_server_attaxx():\n",
    "    "
   ]
  },
  {
   "cell_type": "code",
   "execution_count": 5,
   "metadata": {},
   "outputs": [
    {
     "name": "stdout",
     "output_type": "stream",
     "text": [
      "Waiting for two agents to connect...\n",
      "Agent 1 connected from ('127.0.0.1', 54337)\n",
      "Agent 2 connected from ('127.0.0.1', 54338)\n",
      "Agent 1 ->  MOVE 8,3\n",
      "Agent 1 ->  MOVE 7,3\n",
      "Agent 1 ->  MOVE 5,6\n",
      "Agent 2 ->  MOVE 5,3\n",
      "Agent 1 ->  MOVE 9,8\n",
      "Agent 1 ->  MOVE 4,5\n",
      "Agent 2 ->  MOVE 7,6\n",
      "Agent 2 ->  MOVE 3,5\n",
      "Agent 1 ->  MOVE 9,9\n",
      "Agent 1 ->  MOVE 2,2\n",
      "Agent 2 ->  MOVE 3,8\n",
      "Agent 2 ->  MOVE 7,2\n",
      "Agent 2 ->  MOVE 1,0\n",
      "Agent 1 ->  MOVE 6,4\n",
      "Agent 2 ->  MOVE 4,1\n",
      "Agent 1 ->  MOVE 1,4\n"
     ]
    },
    {
     "ename": "",
     "evalue": "",
     "output_type": "error",
     "traceback": [
      "\u001b[1;31mThe Kernel crashed while executing code in the the current cell or a previous cell. Please review the code in the cell(s) to identify a possible cause of the failure. Click <a href='https://aka.ms/vscodeJupyterKernelCrash'>here</a> for more info. View Jupyter <a href='command:jupyter.viewOutput'>log</a> for further details."
     ]
    }
   ],
   "source": [
    "if __name__ == \"__main__\":\n",
    "    if game[0]=='G':\n",
    "        start_server_go()\n",
    "    elif game[1]=='A':\n",
    "        start_server_attaxx()"
   ]
  }
 ],
 "metadata": {
  "kernelspec": {
   "display_name": "base",
   "language": "python",
   "name": "python3"
  },
  "language_info": {
   "codemirror_mode": {
    "name": "ipython",
    "version": 3
   },
   "file_extension": ".py",
   "mimetype": "text/x-python",
   "name": "python",
   "nbconvert_exporter": "python",
   "pygments_lexer": "ipython3",
   "version": "3.11.5"
  }
 },
 "nbformat": 4,
 "nbformat_minor": 2
}
