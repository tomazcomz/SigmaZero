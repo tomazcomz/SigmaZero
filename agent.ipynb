{
 "cells": [
  {
   "cell_type": "code",
   "execution_count": 1,
   "metadata": {},
   "outputs": [
    {
     "name": "stdout",
     "output_type": "stream",
     "text": [
      "pygame 2.1.2 (SDL 2.0.18, Python 3.10.0)\n",
      "Hello from the pygame community. https://www.pygame.org/contribute.html\n"
     ]
    }
   ],
   "source": [
    "import socket\n",
    "import random\n",
    "import time\n",
    "import avaliar\n",
    "from MCTS import MCTS\n",
    "from ioannina import Neura\n",
    "import Go,Attaxx\n",
    "\n",
    "\n",
    "ARGS = {\n",
    "    'cpuct': 1.5,\n",
    "    'num_searches': 1600\n",
    "}\n"
   ]
  },
  {
   "cell_type": "code",
   "execution_count": 2,
   "metadata": {},
   "outputs": [],
   "source": [
    "def generate_random_move_attaxx():     # ATTAXX\n",
    "    x = random.randint(0, 3)\n",
    "    y = random.randint(0, 3)\n",
    "    x2 = random.randint(0, 3)\n",
    "    y2 = random.randint(0, 3)\n",
    "    return f\"MOVE {x},{y},{x2},{y2}\""
   ]
  },
  {
   "cell_type": "code",
   "execution_count": 3,
   "metadata": {},
   "outputs": [],
   "source": [
    "def generate_random_move_go():     # GO\n",
    "    x = random.randint(0, 6)\n",
    "    y = random.randint(0, 6)\n",
    "    return f\"MOVE {x},{y}\""
   ]
  },
  {
   "cell_type": "code",
   "execution_count": 4,
   "metadata": {},
   "outputs": [],
   "source": [
    "def choose_move_go():\n",
    "    pass"
   ]
  },
  {
   "cell_type": "code",
   "execution_count": 5,
   "metadata": {},
   "outputs": [],
   "source": [
    "def choose_move_attaxx():\n",
    "    pass"
   ]
  },
  {
   "cell_type": "code",
   "execution_count": 6,
   "metadata": {},
   "outputs": [],
   "source": [
    "def choose_move(game_name):   # returns the move in the form \"MOVE X,Y\"\n",
    "    if game_name=='go':\n",
    "        return generate_random_move_go()\n",
    "        return choose_move_go()\n",
    "    else:\n",
    "        return generate_random_move_attaxx()\n",
    "        return choose_move_attaxx()"
   ]
  },
  {
   "cell_type": "code",
   "execution_count": 7,
   "metadata": {},
   "outputs": [],
   "source": [
    "def connect_to_server(host='localhost', port=12345):\n",
    "    client_socket = socket.socket(socket.AF_INET, socket.SOCK_STREAM)\n",
    "    client_socket.connect((host, port))\n",
    "\n",
    "    response = client_socket.recv(1024).decode()\n",
    "    print(f\"Server ResponseINIT: {response}\")\n",
    "\n",
    "    Game = response[-4:]\n",
    "    print(\"Playing:\", Game)\n",
    "    if Game[0]=='A':\n",
    "        game_name = 'attaxx'\n",
    "    else:\n",
    "        game_name = 'go'\n",
    "    n = int(Game[1])\n",
    "\n",
    "    if \"1\" in response:\n",
    "        ag=1\n",
    "    else:\n",
    "        ag=2\n",
    "    first=True\n",
    "\n",
    "    game_state=avaliar.makegame(Game)\n",
    "    teta=Neura(game_state,'Eakesgo7')\n",
    "    alpha=MCTS(game_state,ARGS,teta)\n",
    "\n",
    "    while True:\n",
    "        # Generate and send a random move\n",
    "        if ag == 1 or not first:\n",
    "            move = alpha.play()\n",
    "            time.sleep(1)\n",
    "            smove=str(move)\n",
    "            client_socket.send(smove.encode())\n",
    "            print(\"Send:\",move)\n",
    "        \n",
    "            # Wait for server response\n",
    "            response = client_socket.recv(1024).decode()\n",
    "            print(f\"Server Response1: {response}\")\n",
    "            if response == \"INVALID\":\n",
    "                continue\n",
    "            if \"END\" in response: break\n",
    "            game_state=game_state.move(move)\n",
    "            \n",
    "        first=False\n",
    "        response = client_socket.recv(1024).decode()\n",
    "        if response == \"PASS\":\n",
    "            game_state = game_state.pass_turn()\n",
    "        else:\n",
    "            i=response[5]\n",
    "            j=response[7]\n",
    "            if game_name == \"attaxx\":\n",
    "                i2=response[9]\n",
    "                j2=response[11]\n",
    "        action=(int(i),int(j))\n",
    "        print(f\"Server Response2: {response}\")\n",
    "        if \"END\" in response: break\n",
    "        game_state=game_state.move(action)\n",
    "        alpha.cut(action)\n",
    "\n",
    "    client_socket.close()"
   ]
  },
  {
   "cell_type": "code",
   "execution_count": 8,
   "metadata": {},
   "outputs": [
    {
     "name": "stdout",
     "output_type": "stream",
     "text": [
      "Server ResponseINIT: AG2 G7x7\n",
      "Playing: G7x7\n"
     ]
    }
   ],
   "source": [
    "if __name__ == \"__main__\":\n",
    "    connect_to_server()"
   ]
  }
 ],
 "metadata": {
  "kernelspec": {
   "display_name": "base",
   "language": "python",
   "name": "python3"
  },
  "language_info": {
   "codemirror_mode": {
    "name": "ipython",
    "version": 3
   },
   "file_extension": ".py",
   "mimetype": "text/x-python",
   "name": "python",
   "nbconvert_exporter": "python",
   "pygments_lexer": "ipython3",
   "version": "3.10.0"
  }
 },
 "nbformat": 4,
 "nbformat_minor": 2
}
