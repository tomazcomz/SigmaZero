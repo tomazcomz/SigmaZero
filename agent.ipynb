{
 "cells": [
  {
   "cell_type": "code",
   "execution_count": 37,
   "metadata": {},
   "outputs": [],
   "source": [
    "import socket\n",
    "import random\n",
    "import time"
   ]
  },
  {
   "cell_type": "code",
   "execution_count": 38,
   "metadata": {},
   "outputs": [],
   "source": [
    "def generate_random_move():\n",
    "    x = random.randint(0, 8)\n",
    "    y = random.randint(0, 8)\n",
    "    return f\"MOVE {x},{y}\""
   ]
  },
  {
   "cell_type": "code",
   "execution_count": 39,
   "metadata": {},
   "outputs": [],
   "source": [
    "def connect_to_server(host='localhost', port=12345):\n",
    "    client_socket = socket.socket(socket.AF_INET, socket.SOCK_STREAM)\n",
    "    client_socket.connect((host, port))\n",
    "    \n",
    "    response = client_socket.recv(1024).decode()\n",
    "    print(f\"Server ResponseINIT: {response}\")\n",
    "    \n",
    "    Game = response[-4:]\n",
    "    print(\"Playing:\", Game)\n",
    "    \n",
    "    if \"1\" in response:\n",
    "        ag=1\n",
    "    else:\n",
    "        ag=2\n",
    "    first=True\n",
    "    \n",
    "    while True:\n",
    "        # Generate and send a random move\n",
    "        if ag == 1 or not first:\n",
    "            move = generate_random_move()\n",
    "            time.sleep(1)\n",
    "            client_socket.send(move.encode())\n",
    "            print(\"Send:\",move)\n",
    "        \n",
    "            # Wait for server response\n",
    "            response = client_socket.recv(1024).decode()\n",
    "            print(f\"Server Response1: {response}\")\n",
    "            if response == \"INVALID\":\n",
    "                continue\n",
    "            if \"END\" in response: break\n",
    "         \n",
    "        first=False\n",
    "        response = client_socket.recv(1024).decode()\n",
    "        print(f\"Server Response2: {response}\")\n",
    "        if \"END\" in response: break\n",
    "\n",
    "        # Add some condition to break the loop, if necessary\n",
    "        # Example: If server sends a certain message, or after a number of moves\n",
    "\n",
    "    client_socket.close()"
   ]
  },
  {
   "cell_type": "code",
   "execution_count": 40,
   "metadata": {},
   "outputs": [
    {
     "name": "stdout",
     "output_type": "stream",
     "text": [
      "Server ResponseINIT: AG1 G7x7\n",
      "Playing: G7x7\n",
      "Send: MOVE 8,3\n",
      "Server Response1: INVALID\n",
      "Send: MOVE 7,3\n",
      "Server Response1: INVALID\n",
      "Send: MOVE 5,6\n",
      "Server Response1: VALID\n",
      "Server Response2: MOVE 5,3\n",
      "Send: MOVE 9,8\n",
      "Server Response1: INVALID\n",
      "Send: MOVE 4,5\n",
      "Server Response1: VALID\n",
      "Server Response2: MOVE 3,5\n",
      "Send: MOVE 9,9\n",
      "Server Response1: INVALID\n",
      "Send: MOVE 2,2\n",
      "Server Response1: VALID\n",
      "Server Response2: MOVE 1,0\n",
      "Send: MOVE 6,4\n",
      "Server Response1: VALID\n",
      "Server Response2: MOVE 4,1\n",
      "Send: MOVE 1,4\n",
      "Server Response1: VALID\n"
     ]
    },
    {
     "ename": "ConnectionResetError",
     "evalue": "[WinError 10054] Uma ligação existente foi forçada a fechar pelo anfitrião remoto",
     "output_type": "error",
     "traceback": [
      "\u001b[1;31m---------------------------------------------------------------------------\u001b[0m",
      "\u001b[1;31mConnectionResetError\u001b[0m                      Traceback (most recent call last)",
      "Cell \u001b[1;32mIn[40], line 2\u001b[0m\n\u001b[0;32m      1\u001b[0m \u001b[38;5;28;01mif\u001b[39;00m \u001b[38;5;18m__name__\u001b[39m \u001b[38;5;241m==\u001b[39m \u001b[38;5;124m\"\u001b[39m\u001b[38;5;124m__main__\u001b[39m\u001b[38;5;124m\"\u001b[39m:\n\u001b[1;32m----> 2\u001b[0m     connect_to_server()\n",
      "Cell \u001b[1;32mIn[39], line 33\u001b[0m, in \u001b[0;36mconnect_to_server\u001b[1;34m(host, port)\u001b[0m\n\u001b[0;32m     30\u001b[0m     \u001b[38;5;28;01mif\u001b[39;00m \u001b[38;5;124m\"\u001b[39m\u001b[38;5;124mEND\u001b[39m\u001b[38;5;124m\"\u001b[39m \u001b[38;5;129;01min\u001b[39;00m response: \u001b[38;5;28;01mbreak\u001b[39;00m\n\u001b[0;32m     32\u001b[0m first\u001b[38;5;241m=\u001b[39m\u001b[38;5;28;01mFalse\u001b[39;00m\n\u001b[1;32m---> 33\u001b[0m response \u001b[38;5;241m=\u001b[39m client_socket\u001b[38;5;241m.\u001b[39mrecv(\u001b[38;5;241m1024\u001b[39m)\u001b[38;5;241m.\u001b[39mdecode()\n\u001b[0;32m     34\u001b[0m \u001b[38;5;28mprint\u001b[39m(\u001b[38;5;124mf\u001b[39m\u001b[38;5;124m\"\u001b[39m\u001b[38;5;124mServer Response2: \u001b[39m\u001b[38;5;132;01m{\u001b[39;00mresponse\u001b[38;5;132;01m}\u001b[39;00m\u001b[38;5;124m\"\u001b[39m)\n\u001b[0;32m     35\u001b[0m \u001b[38;5;28;01mif\u001b[39;00m \u001b[38;5;124m\"\u001b[39m\u001b[38;5;124mEND\u001b[39m\u001b[38;5;124m\"\u001b[39m \u001b[38;5;129;01min\u001b[39;00m response: \u001b[38;5;28;01mbreak\u001b[39;00m\n",
      "\u001b[1;31mConnectionResetError\u001b[0m: [WinError 10054] Uma ligação existente foi forçada a fechar pelo anfitrião remoto"
     ]
    }
   ],
   "source": [
    "if __name__ == \"__main__\":\n",
    "    connect_to_server()"
   ]
  }
 ],
 "metadata": {
  "kernelspec": {
   "display_name": "base",
   "language": "python",
   "name": "python3"
  },
  "language_info": {
   "codemirror_mode": {
    "name": "ipython",
    "version": 3
   },
   "file_extension": ".py",
   "mimetype": "text/x-python",
   "name": "python",
   "nbconvert_exporter": "python",
   "pygments_lexer": "ipython3",
   "version": "3.11.5"
  }
 },
 "nbformat": 4,
 "nbformat_minor": 2
}
