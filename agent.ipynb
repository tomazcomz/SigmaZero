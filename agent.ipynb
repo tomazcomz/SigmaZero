{
 "cells": [
  {
   "cell_type": "code",
   "execution_count": null,
   "metadata": {},
   "outputs": [],
   "source": [
    "import socket\n",
    "import random\n",
    "import time"
   ]
  },
  {
   "cell_type": "code",
   "execution_count": null,
   "metadata": {},
   "outputs": [],
   "source": [
    "# def generate_random_move():     # ATTAXX\n",
    "#     x = random.randint(0, 3)\n",
    "#     y = random.randint(0, 3)\n",
    "#     x2 = random.randint(0, 3)\n",
    "#     y2 = random.randint(0, 3)\n",
    "#     return f\"MOVE {x},{y},{x2},{y2}\""
   ]
  },
  {
   "cell_type": "code",
   "execution_count": null,
   "metadata": {},
   "outputs": [],
   "source": [
    "def generate_random_move():     # GO\n",
    "    x = random.randint(0, 6)\n",
    "    y = random.randint(0, 6)\n",
    "    return f\"MOVE {x},{y}\""
   ]
  },
  {
   "cell_type": "code",
   "execution_count": null,
   "metadata": {},
   "outputs": [],
   "source": [
    "def connect_to_server(host='localhost', port=12345):\n",
    "    client_socket = socket.socket(socket.AF_INET, socket.SOCK_STREAM)\n",
    "    client_socket.connect((host, port))\n",
    "    \n",
    "    response = client_socket.recv(1024).decode()\n",
    "    print(f\"Server ResponseINIT: {response}\")\n",
    "    \n",
    "    Game = response[-4:]\n",
    "    print(\"Playing:\", Game)\n",
    "    \n",
    "    if \"1\" in response:\n",
    "        ag=1\n",
    "    else:\n",
    "        ag=2\n",
    "    first=True\n",
    "    \n",
    "    while True:\n",
    "        # Generate and send a random move\n",
    "        if ag == 1 or not first:\n",
    "            move = generate_random_move()\n",
    "            time.sleep(1)\n",
    "            client_socket.send(move.encode())\n",
    "            print(\"Send:\",move)\n",
    "        \n",
    "            # Wait for server response\n",
    "            response = client_socket.recv(1024).decode()\n",
    "            print(f\"Server Response1: {response}\")\n",
    "            if response == \"INVALID\":\n",
    "                continue\n",
    "            if \"END\" in response: break\n",
    "         \n",
    "        first=False\n",
    "        response = client_socket.recv(1024).decode()\n",
    "        print(f\"Server Response2: {response}\")\n",
    "        if \"END\" in response: break\n",
    "\n",
    "        # Add some condition to break the loop, if necessary\n",
    "        # Example: If server sends a certain message, or after a number of moves\n",
    "\n",
    "    client_socket.close()"
   ]
  },
  {
   "cell_type": "code",
   "execution_count": null,
   "metadata": {},
   "outputs": [],
   "source": [
    "if __name__ == \"__main__\":\n",
    "    connect_to_server()"
   ]
  }
 ],
 "metadata": {
  "kernelspec": {
   "display_name": "base",
   "language": "python",
   "name": "python3"
  },
  "language_info": {
   "codemirror_mode": {
    "name": "ipython",
    "version": 3
   },
   "file_extension": ".py",
   "mimetype": "text/x-python",
   "name": "python",
   "nbconvert_exporter": "python",
   "pygments_lexer": "ipython3",
   "version": "3.11.5"
  }
 },
 "nbformat": 4,
 "nbformat_minor": 2
}
