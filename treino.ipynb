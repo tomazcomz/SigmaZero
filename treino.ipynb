{
 "cells": [
  {
   "cell_type": "markdown",
   "metadata": {},
   "source": [
    "# Treino"
   ]
  },
  {
   "cell_type": "code",
   "execution_count": 1,
   "metadata": {},
   "outputs": [
    {
     "name": "stdout",
     "output_type": "stream",
     "text": [
      "WARNING:tensorflow:From c:\\Users\\Vicente\\.pyenv\\pyenv-win\\versions\\3.10.9\\lib\\site-packages\\keras\\src\\losses.py:2976: The name tf.losses.sparse_softmax_cross_entropy is deprecated. Please use tf.compat.v1.losses.sparse_softmax_cross_entropy instead.\n",
      "\n",
      "pygame 2.5.2 (SDL 2.28.3, Python 3.10.9)\n",
      "Hello from the pygame community. https://www.pygame.org/contribute.html\n"
     ]
    }
   ],
   "source": [
    "from MCTS import MCTS\n",
    "import tensorflow as tf\n",
    "import optimizar,avaliar,selfplay\n",
    "import Go,Attaxx\n",
    "from ioannina import Neura, get_best_name,exports,opts\n"
   ]
  },
  {
   "cell_type": "code",
   "execution_count": 2,
   "metadata": {},
   "outputs": [],
   "source": [
    "exports()\n",
    "opts()"
   ]
  },
  {
   "cell_type": "markdown",
   "metadata": {},
   "source": [
    "## Go"
   ]
  },
  {
   "cell_type": "markdown",
   "metadata": {},
   "source": [
    "Primeira iteração (não se passa nome)"
   ]
  },
  {
   "cell_type": "code",
   "execution_count": null,
   "metadata": {},
   "outputs": [],
   "source": [
    "# game=avaliar.makegame('G7x7')\n",
    "#srede=Neura(game,name=get_best_name(game))\n",
    "# print(rede.summary())\n",
    "# rede2=Neura(game,n_resblocks=7)\n",
    "# print(rede2.summary())"
   ]
  },
  {
   "cell_type": "markdown",
   "metadata": {},
   "source": [
    "Teste de Jogo"
   ]
  },
  {
   "cell_type": "code",
   "execution_count": null,
   "metadata": {},
   "outputs": [],
   "source": [
    "ARGS = {\n",
    "    'cpuct': 1.5,\n",
    "    'num_searches': 100\n",
    "}\n",
    "alpha=MCTS(game,ARGS,rede)"
   ]
  },
  {
   "cell_type": "code",
   "execution_count": null,
   "metadata": {},
   "outputs": [],
   "source": [
    "alpha.play()"
   ]
  },
  {
   "cell_type": "markdown",
   "metadata": {},
   "source": [
    "#### Pipeline"
   ]
  },
  {
   "cell_type": "code",
   "execution_count": 3,
   "metadata": {},
   "outputs": [],
   "source": [
    "game=avaliar.makegame('G9x9')"
   ]
  },
  {
   "cell_type": "code",
   "execution_count": 4,
   "metadata": {},
   "outputs": [
    {
     "name": "stdout",
     "output_type": "stream",
     "text": [
      "WARNING:tensorflow:From c:\\Users\\Vicente\\.pyenv\\pyenv-win\\versions\\3.10.9\\lib\\site-packages\\keras\\src\\backend.py:1398: The name tf.executing_eagerly_outside_functions is deprecated. Please use tf.compat.v1.executing_eagerly_outside_functions instead.\n",
      "\n",
      "WARNING:tensorflow:From c:\\Users\\Vicente\\.pyenv\\pyenv-win\\versions\\3.10.9\\lib\\site-packages\\keras\\src\\layers\\normalization\\batch_normalization.py:979: The name tf.nn.fused_batch_norm is deprecated. Please use tf.compat.v1.nn.fused_batch_norm instead.\n",
      "\n",
      "Play chosen: (1, 3)\n",
      "[[0 0 0 0 0 0 0 0 0]\n",
      " [0 0 0 1 0 0 0 0 0]\n",
      " [0 0 0 0 0 0 0 0 0]\n",
      " [0 0 0 0 0 0 0 0 0]\n",
      " [0 0 0 0 0 0 0 0 0]\n",
      " [0 0 0 0 0 0 0 0 0]\n",
      " [0 0 0 0 0 0 0 0 0]\n",
      " [0 0 0 0 0 0 0 0 0]\n",
      " [0 0 0 0 0 0 0 0 0]]\n"
     ]
    },
    {
     "ename": "FileNotFoundError",
     "evalue": "[Errno 2] No such file or directory: 'go/9/datasets/boards/acaciogo919_1704241179.3695116.pkl'",
     "output_type": "error",
     "traceback": [
      "\u001b[1;31m---------------------------------------------------------------------------\u001b[0m",
      "\u001b[1;31mFileNotFoundError\u001b[0m                         Traceback (most recent call last)",
      "Cell \u001b[1;32mIn[4], line 1\u001b[0m\n\u001b[1;32m----> 1\u001b[0m \u001b[43mselfplay\u001b[49m\u001b[38;5;241;43m.\u001b[39;49m\u001b[43msp\u001b[49m\u001b[43m(\u001b[49m\u001b[43mgame\u001b[49m\u001b[43m)\u001b[49m\n\u001b[0;32m      2\u001b[0m optimizar\u001b[38;5;241m.\u001b[39mtrain(game)\n\u001b[0;32m      3\u001b[0m evaluation \u001b[38;5;241m=\u001b[39m avaliar\u001b[38;5;241m.\u001b[39mavaliar(\u001b[38;5;124m\"\u001b[39m\u001b[38;5;124mG9x9\u001b[39m\u001b[38;5;124m\"\u001b[39m,\u001b[38;5;241m9\u001b[39m)\n",
      "File \u001b[1;32mc:\\Users\\Vicente\\SigmaZero\\selfplay.py:29\u001b[0m, in \u001b[0;36msp\u001b[1;34m(game)\u001b[0m\n\u001b[0;32m     27\u001b[0m teta\u001b[38;5;241m=\u001b[39mNeura(game,name\u001b[38;5;241m=\u001b[39m\u001b[38;5;124m'\u001b[39m\u001b[38;5;124macacio\u001b[39m\u001b[38;5;124m'\u001b[39m)   \u001b[38;5;66;03m# comentar isto\u001b[39;00m\n\u001b[0;32m     28\u001b[0m alpha\u001b[38;5;241m=\u001b[39mMCTS(game,ARGS,teta)\n\u001b[1;32m---> 29\u001b[0m winner\u001b[38;5;241m=\u001b[39m\u001b[43magent_v_agent\u001b[49m\u001b[43m(\u001b[49m\u001b[43mgame\u001b[49m\u001b[43m,\u001b[49m\u001b[43malpha\u001b[49m\u001b[43m,\u001b[49m\u001b[43malpha\u001b[49m\u001b[43m,\u001b[49m\u001b[38;5;28;43;01mTrue\u001b[39;49;00m\u001b[43m)\u001b[49m\n",
      "File \u001b[1;32mc:\\Users\\Vicente\\SigmaZero\\avaliar.py:31\u001b[0m, in \u001b[0;36magent_v_agent\u001b[1;34m(game, alphai, alphas, sp)\u001b[0m\n\u001b[0;32m     29\u001b[0m \u001b[38;5;28;01mif\u001b[39;00m game\u001b[38;5;241m.\u001b[39mtype\u001b[38;5;241m==\u001b[39m\u001b[38;5;241m0\u001b[39m:\n\u001b[0;32m     30\u001b[0m     \u001b[38;5;28;01mreturn\u001b[39;00m Attaxx\u001b[38;5;241m.\u001b[39magent_v_agent(game,alphai,alphas,sp)\n\u001b[1;32m---> 31\u001b[0m \u001b[38;5;28;01mreturn\u001b[39;00m \u001b[43mGo\u001b[49m\u001b[38;5;241;43m.\u001b[39;49m\u001b[43magent_v_agent\u001b[49m\u001b[43m(\u001b[49m\u001b[43mgame\u001b[49m\u001b[43m,\u001b[49m\u001b[43malphai\u001b[49m\u001b[43m,\u001b[49m\u001b[43malphas\u001b[49m\u001b[43m,\u001b[49m\u001b[43msp\u001b[49m\u001b[43m)\u001b[49m\n",
      "File \u001b[1;32mc:\\Users\\Vicente\\SigmaZero\\Go.py:348\u001b[0m, in \u001b[0;36magent_v_agent\u001b[1;34m(game, alphai, alphas, sp)\u001b[0m\n\u001b[0;32m    346\u001b[0m     game\u001b[38;5;241m.\u001b[39mend_game()\n\u001b[0;32m    347\u001b[0m \u001b[38;5;28;01mif\u001b[39;00m (sp):\n\u001b[1;32m--> 348\u001b[0m     fname\u001b[38;5;241m=\u001b[39m\u001b[43moptimizar\u001b[49m\u001b[38;5;241;43m.\u001b[39;49m\u001b[43msptrainprocd\u001b[49m\u001b[43m(\u001b[49m\u001b[43mgame\u001b[49m\u001b[43m,\u001b[49m\u001b[43mpolicy\u001b[49m\u001b[43m,\u001b[49m\u001b[43malphas\u001b[49m\u001b[38;5;241;43m.\u001b[39;49m\u001b[43mmodel\u001b[49m\u001b[38;5;241;43m.\u001b[39;49m\u001b[43mname\u001b[49m\u001b[43m)\u001b[49m\n\u001b[0;32m    349\u001b[0m     labellist\u001b[38;5;241m.\u001b[39mappend(fname)\n\u001b[0;32m    350\u001b[0m  \u001b[38;5;66;03m# to display the winner\u001b[39;00m\n",
      "File \u001b[1;32mc:\\Users\\Vicente\\SigmaZero\\optimizar.py:28\u001b[0m, in \u001b[0;36msptrainprocd\u001b[1;34m(game, policy, alphaname)\u001b[0m\n\u001b[0;32m     26\u001b[0m tag\u001b[38;5;241m=\u001b[39m\u001b[38;5;124mf\u001b[39m\u001b[38;5;124m'\u001b[39m\u001b[38;5;132;01m{\u001b[39;00malphaname\u001b[38;5;132;01m}\u001b[39;00m\u001b[38;5;124m_\u001b[39m\u001b[38;5;132;01m{\u001b[39;00mtime\u001b[38;5;241m.\u001b[39mtime()\u001b[38;5;132;01m}\u001b[39;00m\u001b[38;5;124m'\u001b[39m\n\u001b[0;32m     27\u001b[0m pfile\u001b[38;5;241m=\u001b[39m\u001b[38;5;124mf\u001b[39m\u001b[38;5;124m'\u001b[39m\u001b[38;5;132;01m{\u001b[39;00mgame\u001b[38;5;241m.\u001b[39mname\u001b[38;5;132;01m}\u001b[39;00m\u001b[38;5;124m/\u001b[39m\u001b[38;5;132;01m{\u001b[39;00m\u001b[38;5;28mlen\u001b[39m(game\u001b[38;5;241m.\u001b[39mboard)\u001b[38;5;132;01m}\u001b[39;00m\u001b[38;5;124m/datasets/policies/\u001b[39m\u001b[38;5;132;01m{\u001b[39;00mtag\u001b[38;5;132;01m}\u001b[39;00m\u001b[38;5;124m.txt\u001b[39m\u001b[38;5;124m'\u001b[39m\n\u001b[1;32m---> 28\u001b[0m pickle\u001b[38;5;241m.\u001b[39mdump( gen_batch(game), \u001b[38;5;28;43mopen\u001b[39;49m\u001b[43m(\u001b[49m\u001b[43m \u001b[49m\u001b[38;5;124;43mf\u001b[39;49m\u001b[38;5;124;43m\"\u001b[39;49m\u001b[38;5;132;43;01m{\u001b[39;49;00m\u001b[43mgame\u001b[49m\u001b[38;5;241;43m.\u001b[39;49m\u001b[43mname\u001b[49m\u001b[38;5;132;43;01m}\u001b[39;49;00m\u001b[38;5;124;43m/\u001b[39;49m\u001b[38;5;132;43;01m{\u001b[39;49;00m\u001b[38;5;28;43mlen\u001b[39;49m\u001b[43m(\u001b[49m\u001b[43mgame\u001b[49m\u001b[38;5;241;43m.\u001b[39;49m\u001b[43mboard\u001b[49m\u001b[43m)\u001b[49m\u001b[38;5;132;43;01m}\u001b[39;49;00m\u001b[38;5;124;43m/datasets/boards/\u001b[39;49m\u001b[38;5;132;43;01m{\u001b[39;49;00m\u001b[43mtag\u001b[49m\u001b[38;5;132;43;01m}\u001b[39;49;00m\u001b[38;5;124;43m.pkl\u001b[39;49m\u001b[38;5;124;43m\"\u001b[39;49m\u001b[43m,\u001b[49m\u001b[43m \u001b[49m\u001b[38;5;124;43m\"\u001b[39;49m\u001b[38;5;124;43mwb\u001b[39;49m\u001b[38;5;124;43m\"\u001b[39;49m\u001b[43m \u001b[49m\u001b[43m)\u001b[49m )\n\u001b[0;32m     29\u001b[0m np\u001b[38;5;241m.\u001b[39msavetxt(pfile,policy)\n\u001b[0;32m     30\u001b[0m \u001b[38;5;28;01mreturn\u001b[39;00m tag\n",
      "\u001b[1;31mFileNotFoundError\u001b[0m: [Errno 2] No such file or directory: 'go/9/datasets/boards/acaciogo919_1704241179.3695116.pkl'"
     ]
    }
   ],
   "source": [
    "selfplay.sp(game)\n",
    "optimizar.train(game)\n",
    "evaluation = avaliar.avaliar(\"G9x9\",9)"
   ]
  },
  {
   "cell_type": "markdown",
   "metadata": {},
   "source": [
    "### 7x7"
   ]
  },
  {
   "cell_type": "code",
   "execution_count": 4,
   "metadata": {},
   "outputs": [],
   "source": [
    "from MCTS import MCTS\n",
    "import tensorflow as tf\n",
    "import optimizar,avaliar,selfplay\n",
    "import Go,Attaxx\n",
    "from ioannina import Neura, get_best_name,exports,opts"
   ]
  },
  {
   "cell_type": "code",
   "execution_count": 9,
   "metadata": {},
   "outputs": [],
   "source": [
    "game=avaliar.makegame('G7x7')"
   ]
  },
  {
   "cell_type": "markdown",
   "metadata": {},
   "source": [
    "Primeira iteração apenas para gerar tabuleiros de treino"
   ]
  },
  {
   "cell_type": "code",
   "execution_count": 10,
   "metadata": {},
   "outputs": [
    {
     "name": "stdout",
     "output_type": "stream",
     "text": [
      "Play chosen: (5, 4)\n",
      "[[0 0 0 0 0 0 0]\n",
      " [0 0 0 0 0 0 0]\n",
      " [0 0 0 0 0 0 0]\n",
      " [0 0 0 0 0 0 0]\n",
      " [0 0 0 0 0 0 0]\n",
      " [0 0 0 0 1 0 0]\n",
      " [0 0 0 0 0 0 0]]\n"
     ]
    },
    {
     "ename": "FileNotFoundError",
     "evalue": "[Errno 2] No such file or directory: 'go/7/datasets/boards/acaciogo719_1704241844.791585.pkl'",
     "output_type": "error",
     "traceback": [
      "\u001b[1;31m---------------------------------------------------------------------------\u001b[0m",
      "\u001b[1;31mFileNotFoundError\u001b[0m                         Traceback (most recent call last)",
      "Cell \u001b[1;32mIn[10], line 1\u001b[0m\n\u001b[1;32m----> 1\u001b[0m \u001b[43mselfplay\u001b[49m\u001b[38;5;241;43m.\u001b[39;49m\u001b[43msp\u001b[49m\u001b[43m(\u001b[49m\u001b[43mgame\u001b[49m\u001b[43m)\u001b[49m\n",
      "File \u001b[1;32mc:\\Users\\Vicente\\SigmaZero\\selfplay.py:29\u001b[0m, in \u001b[0;36msp\u001b[1;34m(game)\u001b[0m\n\u001b[0;32m     27\u001b[0m teta\u001b[38;5;241m=\u001b[39mNeura(game,name\u001b[38;5;241m=\u001b[39m\u001b[38;5;124m'\u001b[39m\u001b[38;5;124macacio\u001b[39m\u001b[38;5;124m'\u001b[39m)   \u001b[38;5;66;03m# comentar isto\u001b[39;00m\n\u001b[0;32m     28\u001b[0m alpha\u001b[38;5;241m=\u001b[39mMCTS(game,ARGS,teta)\n\u001b[1;32m---> 29\u001b[0m winner\u001b[38;5;241m=\u001b[39m\u001b[43magent_v_agent\u001b[49m\u001b[43m(\u001b[49m\u001b[43mgame\u001b[49m\u001b[43m,\u001b[49m\u001b[43malpha\u001b[49m\u001b[43m,\u001b[49m\u001b[43malpha\u001b[49m\u001b[43m,\u001b[49m\u001b[38;5;28;43;01mTrue\u001b[39;49;00m\u001b[43m)\u001b[49m\n",
      "File \u001b[1;32mc:\\Users\\Vicente\\SigmaZero\\avaliar.py:31\u001b[0m, in \u001b[0;36magent_v_agent\u001b[1;34m(game, alphai, alphas, sp)\u001b[0m\n\u001b[0;32m     29\u001b[0m \u001b[38;5;28;01mif\u001b[39;00m game\u001b[38;5;241m.\u001b[39mtype\u001b[38;5;241m==\u001b[39m\u001b[38;5;241m0\u001b[39m:\n\u001b[0;32m     30\u001b[0m     \u001b[38;5;28;01mreturn\u001b[39;00m Attaxx\u001b[38;5;241m.\u001b[39magent_v_agent(game,alphai,alphas,sp)\n\u001b[1;32m---> 31\u001b[0m \u001b[38;5;28;01mreturn\u001b[39;00m \u001b[43mGo\u001b[49m\u001b[38;5;241;43m.\u001b[39;49m\u001b[43magent_v_agent\u001b[49m\u001b[43m(\u001b[49m\u001b[43mgame\u001b[49m\u001b[43m,\u001b[49m\u001b[43malphai\u001b[49m\u001b[43m,\u001b[49m\u001b[43malphas\u001b[49m\u001b[43m,\u001b[49m\u001b[43msp\u001b[49m\u001b[43m)\u001b[49m\n",
      "File \u001b[1;32mc:\\Users\\Vicente\\SigmaZero\\Go.py:348\u001b[0m, in \u001b[0;36magent_v_agent\u001b[1;34m(game, alphai, alphas, sp)\u001b[0m\n\u001b[0;32m    346\u001b[0m     game\u001b[38;5;241m.\u001b[39mend_game()\n\u001b[0;32m    347\u001b[0m \u001b[38;5;28;01mif\u001b[39;00m (sp):\n\u001b[1;32m--> 348\u001b[0m     fname\u001b[38;5;241m=\u001b[39m\u001b[43moptimizar\u001b[49m\u001b[38;5;241;43m.\u001b[39;49m\u001b[43msptrainprocd\u001b[49m\u001b[43m(\u001b[49m\u001b[43mgame\u001b[49m\u001b[43m,\u001b[49m\u001b[43mpolicy\u001b[49m\u001b[43m,\u001b[49m\u001b[43malphas\u001b[49m\u001b[38;5;241;43m.\u001b[39;49m\u001b[43mmodel\u001b[49m\u001b[38;5;241;43m.\u001b[39;49m\u001b[43mname\u001b[49m\u001b[43m)\u001b[49m\n\u001b[0;32m    349\u001b[0m     labellist\u001b[38;5;241m.\u001b[39mappend(fname)\n\u001b[0;32m    350\u001b[0m  \u001b[38;5;66;03m# to display the winner\u001b[39;00m\n",
      "File \u001b[1;32mc:\\Users\\Vicente\\SigmaZero\\optimizar.py:28\u001b[0m, in \u001b[0;36msptrainprocd\u001b[1;34m(game, policy, alphaname)\u001b[0m\n\u001b[0;32m     26\u001b[0m tag\u001b[38;5;241m=\u001b[39m\u001b[38;5;124mf\u001b[39m\u001b[38;5;124m'\u001b[39m\u001b[38;5;132;01m{\u001b[39;00malphaname\u001b[38;5;132;01m}\u001b[39;00m\u001b[38;5;124m_\u001b[39m\u001b[38;5;132;01m{\u001b[39;00mtime\u001b[38;5;241m.\u001b[39mtime()\u001b[38;5;132;01m}\u001b[39;00m\u001b[38;5;124m'\u001b[39m\n\u001b[0;32m     27\u001b[0m pfile\u001b[38;5;241m=\u001b[39m\u001b[38;5;124mf\u001b[39m\u001b[38;5;124m'\u001b[39m\u001b[38;5;132;01m{\u001b[39;00mgame\u001b[38;5;241m.\u001b[39mname\u001b[38;5;132;01m}\u001b[39;00m\u001b[38;5;124m/\u001b[39m\u001b[38;5;132;01m{\u001b[39;00m\u001b[38;5;28mlen\u001b[39m(game\u001b[38;5;241m.\u001b[39mboard)\u001b[38;5;132;01m}\u001b[39;00m\u001b[38;5;124m/datasets/policies/\u001b[39m\u001b[38;5;132;01m{\u001b[39;00mtag\u001b[38;5;132;01m}\u001b[39;00m\u001b[38;5;124m.txt\u001b[39m\u001b[38;5;124m'\u001b[39m\n\u001b[1;32m---> 28\u001b[0m pickle\u001b[38;5;241m.\u001b[39mdump( gen_batch(game), \u001b[38;5;28;43mopen\u001b[39;49m\u001b[43m(\u001b[49m\u001b[43m \u001b[49m\u001b[38;5;124;43mf\u001b[39;49m\u001b[38;5;124;43m\"\u001b[39;49m\u001b[38;5;132;43;01m{\u001b[39;49;00m\u001b[43mgame\u001b[49m\u001b[38;5;241;43m.\u001b[39;49m\u001b[43mname\u001b[49m\u001b[38;5;132;43;01m}\u001b[39;49;00m\u001b[38;5;124;43m/\u001b[39;49m\u001b[38;5;132;43;01m{\u001b[39;49;00m\u001b[38;5;28;43mlen\u001b[39;49m\u001b[43m(\u001b[49m\u001b[43mgame\u001b[49m\u001b[38;5;241;43m.\u001b[39;49m\u001b[43mboard\u001b[49m\u001b[43m)\u001b[49m\u001b[38;5;132;43;01m}\u001b[39;49;00m\u001b[38;5;124;43m/datasets/boards/\u001b[39;49m\u001b[38;5;132;43;01m{\u001b[39;49;00m\u001b[43mtag\u001b[49m\u001b[38;5;132;43;01m}\u001b[39;49;00m\u001b[38;5;124;43m.pkl\u001b[39;49m\u001b[38;5;124;43m\"\u001b[39;49m\u001b[43m,\u001b[49m\u001b[43m \u001b[49m\u001b[38;5;124;43m\"\u001b[39;49m\u001b[38;5;124;43mwb\u001b[39;49m\u001b[38;5;124;43m\"\u001b[39;49m\u001b[43m \u001b[49m\u001b[43m)\u001b[49m )\n\u001b[0;32m     29\u001b[0m np\u001b[38;5;241m.\u001b[39msavetxt(pfile,policy)\n\u001b[0;32m     30\u001b[0m \u001b[38;5;28;01mreturn\u001b[39;00m tag\n",
      "\u001b[1;31mFileNotFoundError\u001b[0m: [Errno 2] No such file or directory: 'go/7/datasets/boards/acaciogo719_1704241844.791585.pkl'"
     ]
    }
   ],
   "source": [
    "selfplay.sp(game)"
   ]
  },
  {
   "cell_type": "markdown",
   "metadata": {},
   "source": [
    "#### Pipeline"
   ]
  },
  {
   "cell_type": "code",
   "execution_count": null,
   "metadata": {},
   "outputs": [],
   "source": [
    "selfplay.sp(game)\n",
    "optimizar.train(game)\n",
    "evaluation = avaliar.avaliar(\"G7x7\")"
   ]
  },
  {
   "cell_type": "markdown",
   "metadata": {},
   "source": [
    "## Attaxx"
   ]
  },
  {
   "cell_type": "code",
   "execution_count": 1,
   "metadata": {},
   "outputs": [
    {
     "name": "stdout",
     "output_type": "stream",
     "text": [
      "WARNING:tensorflow:From c:\\Users\\Vicente\\.pyenv\\pyenv-win\\versions\\3.10.9\\lib\\site-packages\\keras\\src\\losses.py:2976: The name tf.losses.sparse_softmax_cross_entropy is deprecated. Please use tf.compat.v1.losses.sparse_softmax_cross_entropy instead.\n",
      "\n",
      "pygame 2.5.2 (SDL 2.28.3, Python 3.10.9)\n",
      "Hello from the pygame community. https://www.pygame.org/contribute.html\n"
     ]
    }
   ],
   "source": [
    "from MCTS import MCTS\n",
    "import tensorflow as tf\n",
    "import optimizar,avaliar,selfplay\n",
    "import Attaxx\n",
    "from ioannina import Neura, get_best_name,exports,opts"
   ]
  },
  {
   "cell_type": "code",
   "execution_count": 2,
   "metadata": {},
   "outputs": [
    {
     "name": "stdout",
     "output_type": "stream",
     "text": [
      "GAME SIZE: 4\n"
     ]
    }
   ],
   "source": [
    "game=avaliar.makegame('A6x6')"
   ]
  },
  {
   "cell_type": "code",
   "execution_count": 3,
   "metadata": {},
   "outputs": [
    {
     "name": "stdout",
     "output_type": "stream",
     "text": [
      "WARNING:tensorflow:From c:\\Users\\Vicente\\.pyenv\\pyenv-win\\versions\\3.10.9\\lib\\site-packages\\keras\\src\\backend.py:1398: The name tf.executing_eagerly_outside_functions is deprecated. Please use tf.compat.v1.executing_eagerly_outside_functions instead.\n",
      "\n",
      "WARNING:tensorflow:From c:\\Users\\Vicente\\.pyenv\\pyenv-win\\versions\\3.10.9\\lib\\site-packages\\keras\\src\\layers\\normalization\\batch_normalization.py:979: The name tf.nn.fused_batch_norm is deprecated. Please use tf.compat.v1.nn.fused_batch_norm instead.\n",
      "\n",
      "[[8, 8, 8, 8, 8, 8], [8, 1, 0, 0, -1, 8], [8, 0, 0, 0, 0, 8], [8, 0, 0, 0, 0, 8], [8, -1, 0, 0, 1, 8], [8, 8, 8, 8, 8, 8]]\n",
      "PLAYER 1 TURN\n",
      "Play chosen: (2, 4)\n",
      "{((1, 0), (2, 1)), ((1, 0), (3, 2)), ((5, 4), (3, 2)), ((5, 4), (4, 3)), ((1, 0), (1, 1)), ((1, 0), (2, 0)), ((1, 0), (3, 0)), ((5, 4), (3, 4)), ((5, 4), (5, 3)), ((5, 4), (5, 2)), ((5, 4), (4, 4)), ((1, 0), (1, 2))}\n",
      "False\n",
      "PLAYER 1 TURN\n",
      "Play chosen: (3, 1)\n",
      "{((1, 0), (2, 1)), ((1, 0), (3, 2)), ((5, 4), (3, 2)), ((5, 4), (4, 3)), ((1, 0), (1, 1)), ((1, 0), (2, 0)), ((1, 0), (3, 0)), ((5, 4), (3, 4)), ((5, 4), (5, 3)), ((5, 4), (5, 2)), ((5, 4), (4, 4)), ((1, 0), (1, 2))}\n",
      "False\n",
      "PLAYER 1 TURN\n",
      "Play chosen: (3, 4)\n",
      "{((1, 0), (2, 1)), ((1, 0), (3, 2)), ((5, 4), (3, 2)), ((5, 4), (4, 3)), ((1, 0), (1, 1)), ((1, 0), (2, 0)), ((1, 0), (3, 0)), ((5, 4), (3, 4)), ((5, 4), (5, 3)), ((5, 4), (5, 2)), ((5, 4), (4, 4)), ((1, 0), (1, 2))}\n",
      "True\n"
     ]
    },
    {
     "ename": "AttributeError",
     "evalue": "'MCTS' object has no attribute 'name'",
     "output_type": "error",
     "traceback": [
      "\u001b[1;31m---------------------------------------------------------------------------\u001b[0m",
      "\u001b[1;31mAttributeError\u001b[0m                            Traceback (most recent call last)",
      "Cell \u001b[1;32mIn[3], line 1\u001b[0m\n\u001b[1;32m----> 1\u001b[0m \u001b[43mselfplay\u001b[49m\u001b[38;5;241;43m.\u001b[39;49m\u001b[43msp\u001b[49m\u001b[43m(\u001b[49m\u001b[43mgame\u001b[49m\u001b[43m)\u001b[49m\n",
      "File \u001b[1;32mc:\\Users\\Vicente\\SigmaZero\\selfplay.py:29\u001b[0m, in \u001b[0;36msp\u001b[1;34m(game)\u001b[0m\n\u001b[0;32m     27\u001b[0m teta\u001b[38;5;241m=\u001b[39mNeura(game,name\u001b[38;5;241m=\u001b[39m\u001b[38;5;124m'\u001b[39m\u001b[38;5;124macacio\u001b[39m\u001b[38;5;124m'\u001b[39m)   \u001b[38;5;66;03m# comentar isto\u001b[39;00m\n\u001b[0;32m     28\u001b[0m alpha\u001b[38;5;241m=\u001b[39mMCTS(game,ARGS,teta)\n\u001b[1;32m---> 29\u001b[0m winner\u001b[38;5;241m=\u001b[39m\u001b[43magent_v_agent\u001b[49m\u001b[43m(\u001b[49m\u001b[43mgame\u001b[49m\u001b[43m,\u001b[49m\u001b[43malpha\u001b[49m\u001b[43m,\u001b[49m\u001b[43malpha\u001b[49m\u001b[43m,\u001b[49m\u001b[38;5;28;43;01mTrue\u001b[39;49;00m\u001b[43m)\u001b[49m\n",
      "File \u001b[1;32mc:\\Users\\Vicente\\SigmaZero\\avaliar.py:26\u001b[0m, in \u001b[0;36magent_v_agent\u001b[1;34m(game, alphai, alphas, sp)\u001b[0m\n\u001b[0;32m     24\u001b[0m \u001b[38;5;28;01mdef\u001b[39;00m \u001b[38;5;21magent_v_agent\u001b[39m(game,alphai,alphas,sp\u001b[38;5;241m=\u001b[39m\u001b[38;5;28;01mFalse\u001b[39;00m):\n\u001b[0;32m     25\u001b[0m     \u001b[38;5;28;01mif\u001b[39;00m game\u001b[38;5;241m.\u001b[39mtype\u001b[38;5;241m==\u001b[39m\u001b[38;5;241m0\u001b[39m:\n\u001b[1;32m---> 26\u001b[0m         \u001b[38;5;28;01mreturn\u001b[39;00m \u001b[43mAttaxx\u001b[49m\u001b[38;5;241;43m.\u001b[39;49m\u001b[43magent_v_agent\u001b[49m\u001b[43m(\u001b[49m\u001b[43mgame\u001b[49m\u001b[43m,\u001b[49m\u001b[43malphai\u001b[49m\u001b[43m,\u001b[49m\u001b[43malphas\u001b[49m\u001b[43m,\u001b[49m\u001b[43msp\u001b[49m\u001b[43m)\u001b[49m\n\u001b[0;32m     27\u001b[0m     \u001b[38;5;28;01mreturn\u001b[39;00m Go\u001b[38;5;241m.\u001b[39magent_v_agent(game,alphai,alphas,sp)\n",
      "File \u001b[1;32mc:\\Users\\Vicente\\SigmaZero\\Attaxx.py:325\u001b[0m, in \u001b[0;36magent_v_agent\u001b[1;34m(game, alphai, alphas, sp)\u001b[0m\n\u001b[0;32m    323\u001b[0m     game\u001b[38;5;241m.\u001b[39mend\u001b[38;5;241m=\u001b[39mobjective_test(game, player_id)\n\u001b[0;32m    324\u001b[0m \u001b[38;5;28;01mif\u001b[39;00m (sp):\n\u001b[1;32m--> 325\u001b[0m     fname\u001b[38;5;241m=\u001b[39moptimizar\u001b[38;5;241m.\u001b[39msptrainprocd(game\u001b[38;5;241m.\u001b[39mboard,\u001b[43malphas\u001b[49m\u001b[38;5;241;43m.\u001b[39;49m\u001b[43mname\u001b[49m)\n\u001b[0;32m    326\u001b[0m     labellist\u001b[38;5;241m.\u001b[39mappend(fname)\n\u001b[0;32m    327\u001b[0m  \u001b[38;5;66;03m# to display the winner\u001b[39;00m\n",
      "\u001b[1;31mAttributeError\u001b[0m: 'MCTS' object has no attribute 'name'"
     ]
    }
   ],
   "source": [
    "selfplay.sp(game)"
   ]
  },
  {
   "cell_type": "code",
   "execution_count": null,
   "metadata": {},
   "outputs": [
    {
     "ename": "ValueError",
     "evalue": "Input 0 of layer \"conv3d_2\" is incompatible with the layer: expected min_ndim=5, found ndim=4. Full shape received: (None, 6, 6, 1)",
     "output_type": "error",
     "traceback": [
      "\u001b[1;31m---------------------------------------------------------------------------\u001b[0m",
      "\u001b[1;31mValueError\u001b[0m                                Traceback (most recent call last)",
      "Cell \u001b[1;32mIn[13], line 1\u001b[0m\n\u001b[1;32m----> 1\u001b[0m \u001b[43mselfplay\u001b[49m\u001b[38;5;241;43m.\u001b[39;49m\u001b[43msp\u001b[49m\u001b[43m(\u001b[49m\u001b[43mgame\u001b[49m\u001b[43m)\u001b[49m\n\u001b[0;32m      2\u001b[0m optimizar\u001b[38;5;241m.\u001b[39mtrain(game)\n\u001b[0;32m      3\u001b[0m evaluation \u001b[38;5;241m=\u001b[39m avaliar\u001b[38;5;241m.\u001b[39mavaliar(\u001b[38;5;124m\"\u001b[39m\u001b[38;5;124mA6x6\u001b[39m\u001b[38;5;124m\"\u001b[39m)\n",
      "File \u001b[1;32mc:\\Users\\Vicente\\SigmaZero\\selfplay.py:27\u001b[0m, in \u001b[0;36msp\u001b[1;34m(game)\u001b[0m\n\u001b[0;32m     24\u001b[0m \u001b[38;5;28;01mdef\u001b[39;00m \u001b[38;5;21msp\u001b[39m(game):\n\u001b[0;32m     25\u001b[0m     \u001b[38;5;66;03m#teta=Neura(game,name=get_best_name(game))   \u001b[39;00m\n\u001b[0;32m     26\u001b[0m     \u001b[38;5;28;01mfor\u001b[39;00m i \u001b[38;5;129;01min\u001b[39;00m \u001b[38;5;28mrange\u001b[39m(\u001b[38;5;241m50\u001b[39m):\n\u001b[1;32m---> 27\u001b[0m         teta\u001b[38;5;241m=\u001b[39m\u001b[43mNeura\u001b[49m\u001b[43m(\u001b[49m\u001b[43mgame\u001b[49m\u001b[43m,\u001b[49m\u001b[43mname\u001b[49m\u001b[38;5;241;43m=\u001b[39;49m\u001b[38;5;124;43m'\u001b[39;49m\u001b[38;5;124;43macacio\u001b[39;49m\u001b[38;5;124;43m'\u001b[39;49m\u001b[43m)\u001b[49m   \u001b[38;5;66;03m# comentar isto\u001b[39;00m\n\u001b[0;32m     28\u001b[0m         alpha\u001b[38;5;241m=\u001b[39mMCTS(game,ARGS,teta)\n\u001b[0;32m     29\u001b[0m         winner\u001b[38;5;241m=\u001b[39magent_v_agent(game,alpha,alpha,\u001b[38;5;28;01mTrue\u001b[39;00m)\n",
      "File \u001b[1;32mc:\\Users\\Vicente\\SigmaZero\\ioannina.py:24\u001b[0m, in \u001b[0;36mNeura.__init__\u001b[1;34m(self, game, name)\u001b[0m\n\u001b[0;32m     22\u001b[0m \u001b[38;5;66;03m#self.res=len(game.board)\u001b[39;00m\n\u001b[0;32m     23\u001b[0m \u001b[38;5;28mself\u001b[39m\u001b[38;5;241m.\u001b[39mres\u001b[38;5;241m=\u001b[39m\u001b[38;5;241m19\u001b[39m\n\u001b[1;32m---> 24\u001b[0m \u001b[38;5;28;43mself\u001b[39;49m\u001b[38;5;241;43m.\u001b[39;49m\u001b[43mbuild\u001b[49m\u001b[43m(\u001b[49m\u001b[38;5;28;43mself\u001b[39;49m\u001b[38;5;241;43m.\u001b[39;49m\u001b[43mres\u001b[49m\u001b[43m,\u001b[49m\u001b[38;5;28;43mself\u001b[39;49m\u001b[38;5;241;43m.\u001b[39;49m\u001b[43mnf\u001b[49m\u001b[43m)\u001b[49m\n\u001b[0;32m     25\u001b[0m \u001b[38;5;28;01mif\u001b[39;00m name\u001b[38;5;241m==\u001b[39m\u001b[38;5;124m'\u001b[39m\u001b[38;5;124macacio\u001b[39m\u001b[38;5;124m'\u001b[39m:\n\u001b[0;32m     26\u001b[0m     \u001b[38;5;28mself\u001b[39m\u001b[38;5;241m.\u001b[39mname\u001b[38;5;241m=\u001b[39m\u001b[38;5;124m'\u001b[39m\u001b[38;5;124macacio\u001b[39m\u001b[38;5;124m'\u001b[39m\u001b[38;5;241m+\u001b[39mgame\u001b[38;5;241m.\u001b[39mname\u001b[38;5;241m+\u001b[39m\u001b[38;5;28mstr\u001b[39m(\u001b[38;5;28mlen\u001b[39m(game\u001b[38;5;241m.\u001b[39mboard))\u001b[38;5;241m+\u001b[39m\u001b[38;5;28mstr\u001b[39m(\u001b[38;5;28mself\u001b[39m\u001b[38;5;241m.\u001b[39mres)\n",
      "File \u001b[1;32mc:\\Users\\Vicente\\SigmaZero\\ioannina.py:98\u001b[0m, in \u001b[0;36mNeura.build\u001b[1;34m(self, n_res, nf)\u001b[0m\n\u001b[0;32m     96\u001b[0m \u001b[38;5;28;01mdef\u001b[39;00m \u001b[38;5;21mbuild\u001b[39m(\u001b[38;5;28mself\u001b[39m,n_res,nf,):\n\u001b[0;32m     97\u001b[0m     \u001b[38;5;28;01mif\u001b[39;00m \u001b[38;5;28mself\u001b[39m\u001b[38;5;241m.\u001b[39mgame\u001b[38;5;241m.\u001b[39mtype\u001b[38;5;241m==\u001b[39m\u001b[38;5;241m0\u001b[39m:\n\u001b[1;32m---> 98\u001b[0m         conv\u001b[38;5;241m=\u001b[39m\u001b[38;5;28;43mself\u001b[39;49m\u001b[38;5;241;43m.\u001b[39;49m\u001b[43mconvblock3\u001b[49m\u001b[43m(\u001b[49m\u001b[38;5;28;43mself\u001b[39;49m\u001b[38;5;241;43m.\u001b[39;49m\u001b[43minpt\u001b[49m\u001b[43m,\u001b[49m\u001b[43mnf\u001b[49m\u001b[43m)\u001b[49m\n\u001b[0;32m     99\u001b[0m         restower\u001b[38;5;241m=\u001b[39mconv\n\u001b[0;32m    100\u001b[0m         \u001b[38;5;28;01mfor\u001b[39;00m i \u001b[38;5;129;01min\u001b[39;00m \u001b[38;5;28mrange\u001b[39m(n_res):\n",
      "File \u001b[1;32mc:\\Users\\Vicente\\SigmaZero\\ioannina.py:56\u001b[0m, in \u001b[0;36mNeura.convblock3\u001b[1;34m(self, input, nf)\u001b[0m\n\u001b[0;32m     55\u001b[0m \u001b[38;5;28;01mdef\u001b[39;00m \u001b[38;5;21mconvblock3\u001b[39m(\u001b[38;5;28mself\u001b[39m,\u001b[38;5;28minput\u001b[39m,nf):\n\u001b[1;32m---> 56\u001b[0m     c\u001b[38;5;241m=\u001b[39m\u001b[43mlayers\u001b[49m\u001b[38;5;241;43m.\u001b[39;49m\u001b[43mConv3D\u001b[49m\u001b[43m(\u001b[49m\u001b[43mnf\u001b[49m\u001b[43m,\u001b[49m\u001b[38;5;241;43m3\u001b[39;49m\u001b[43m,\u001b[49m\u001b[43m(\u001b[49m\u001b[38;5;241;43m1\u001b[39;49m\u001b[43m,\u001b[49m\u001b[38;5;241;43m1\u001b[39;49m\u001b[43m,\u001b[49m\u001b[38;5;241;43m1\u001b[39;49m\u001b[43m)\u001b[49m\u001b[43m,\u001b[49m\u001b[38;5;124;43m'\u001b[39;49m\u001b[38;5;124;43msame\u001b[39;49m\u001b[38;5;124;43m'\u001b[39;49m\u001b[43m)\u001b[49m\u001b[43m(\u001b[49m\u001b[38;5;28;43minput\u001b[39;49m\u001b[43m)\u001b[49m\n\u001b[0;32m     57\u001b[0m     b\u001b[38;5;241m=\u001b[39mlayers\u001b[38;5;241m.\u001b[39mBatchNormalization()(c)\n\u001b[0;32m     58\u001b[0m     rnl\u001b[38;5;241m=\u001b[39mlayers\u001b[38;5;241m.\u001b[39mActivation(activation\u001b[38;5;241m=\u001b[39m\u001b[38;5;124m'\u001b[39m\u001b[38;5;124msoftplus\u001b[39m\u001b[38;5;124m'\u001b[39m)(b)\n",
      "File \u001b[1;32mc:\\Users\\Vicente\\.pyenv\\pyenv-win\\versions\\3.10.9\\lib\\site-packages\\keras\\src\\utils\\traceback_utils.py:70\u001b[0m, in \u001b[0;36mfilter_traceback.<locals>.error_handler\u001b[1;34m(*args, **kwargs)\u001b[0m\n\u001b[0;32m     67\u001b[0m     filtered_tb \u001b[38;5;241m=\u001b[39m _process_traceback_frames(e\u001b[38;5;241m.\u001b[39m__traceback__)\n\u001b[0;32m     68\u001b[0m     \u001b[38;5;66;03m# To get the full stack trace, call:\u001b[39;00m\n\u001b[0;32m     69\u001b[0m     \u001b[38;5;66;03m# `tf.debugging.disable_traceback_filtering()`\u001b[39;00m\n\u001b[1;32m---> 70\u001b[0m     \u001b[38;5;28;01mraise\u001b[39;00m e\u001b[38;5;241m.\u001b[39mwith_traceback(filtered_tb) \u001b[38;5;28;01mfrom\u001b[39;00m \u001b[38;5;28;01mNone\u001b[39;00m\n\u001b[0;32m     71\u001b[0m \u001b[38;5;28;01mfinally\u001b[39;00m:\n\u001b[0;32m     72\u001b[0m     \u001b[38;5;28;01mdel\u001b[39;00m filtered_tb\n",
      "File \u001b[1;32mc:\\Users\\Vicente\\.pyenv\\pyenv-win\\versions\\3.10.9\\lib\\site-packages\\keras\\src\\engine\\input_spec.py:253\u001b[0m, in \u001b[0;36massert_input_compatibility\u001b[1;34m(input_spec, inputs, layer_name)\u001b[0m\n\u001b[0;32m    251\u001b[0m     ndim \u001b[38;5;241m=\u001b[39m x\u001b[38;5;241m.\u001b[39mshape\u001b[38;5;241m.\u001b[39mrank\n\u001b[0;32m    252\u001b[0m     \u001b[38;5;28;01mif\u001b[39;00m ndim \u001b[38;5;129;01mis\u001b[39;00m \u001b[38;5;129;01mnot\u001b[39;00m \u001b[38;5;28;01mNone\u001b[39;00m \u001b[38;5;129;01mand\u001b[39;00m ndim \u001b[38;5;241m<\u001b[39m spec\u001b[38;5;241m.\u001b[39mmin_ndim:\n\u001b[1;32m--> 253\u001b[0m         \u001b[38;5;28;01mraise\u001b[39;00m \u001b[38;5;167;01mValueError\u001b[39;00m(\n\u001b[0;32m    254\u001b[0m             \u001b[38;5;124mf\u001b[39m\u001b[38;5;124m'\u001b[39m\u001b[38;5;124mInput \u001b[39m\u001b[38;5;132;01m{\u001b[39;00minput_index\u001b[38;5;132;01m}\u001b[39;00m\u001b[38;5;124m of layer \u001b[39m\u001b[38;5;124m\"\u001b[39m\u001b[38;5;132;01m{\u001b[39;00mlayer_name\u001b[38;5;132;01m}\u001b[39;00m\u001b[38;5;124m\"\u001b[39m\u001b[38;5;124m \u001b[39m\u001b[38;5;124m'\u001b[39m\n\u001b[0;32m    255\u001b[0m             \u001b[38;5;124m\"\u001b[39m\u001b[38;5;124mis incompatible with the layer: \u001b[39m\u001b[38;5;124m\"\u001b[39m\n\u001b[0;32m    256\u001b[0m             \u001b[38;5;124mf\u001b[39m\u001b[38;5;124m\"\u001b[39m\u001b[38;5;124mexpected min_ndim=\u001b[39m\u001b[38;5;132;01m{\u001b[39;00mspec\u001b[38;5;241m.\u001b[39mmin_ndim\u001b[38;5;132;01m}\u001b[39;00m\u001b[38;5;124m, \u001b[39m\u001b[38;5;124m\"\u001b[39m\n\u001b[0;32m    257\u001b[0m             \u001b[38;5;124mf\u001b[39m\u001b[38;5;124m\"\u001b[39m\u001b[38;5;124mfound ndim=\u001b[39m\u001b[38;5;132;01m{\u001b[39;00mndim\u001b[38;5;132;01m}\u001b[39;00m\u001b[38;5;124m. \u001b[39m\u001b[38;5;124m\"\u001b[39m\n\u001b[0;32m    258\u001b[0m             \u001b[38;5;124mf\u001b[39m\u001b[38;5;124m\"\u001b[39m\u001b[38;5;124mFull shape received: \u001b[39m\u001b[38;5;132;01m{\u001b[39;00m\u001b[38;5;28mtuple\u001b[39m(shape)\u001b[38;5;132;01m}\u001b[39;00m\u001b[38;5;124m\"\u001b[39m\n\u001b[0;32m    259\u001b[0m         )\n\u001b[0;32m    260\u001b[0m \u001b[38;5;66;03m# Check dtype.\u001b[39;00m\n\u001b[0;32m    261\u001b[0m \u001b[38;5;28;01mif\u001b[39;00m spec\u001b[38;5;241m.\u001b[39mdtype \u001b[38;5;129;01mis\u001b[39;00m \u001b[38;5;129;01mnot\u001b[39;00m \u001b[38;5;28;01mNone\u001b[39;00m:\n",
      "\u001b[1;31mValueError\u001b[0m: Input 0 of layer \"conv3d_2\" is incompatible with the layer: expected min_ndim=5, found ndim=4. Full shape received: (None, 6, 6, 1)"
     ]
    }
   ],
   "source": [
    "selfplay.sp(game)\n",
    "optimizar.train(game)\n",
    "evaluation = avaliar.avaliar(\"A6x6\")"
   ]
  }
 ],
 "metadata": {
  "kernelspec": {
   "display_name": "Python 3",
   "language": "python",
   "name": "python3"
  },
  "language_info": {
   "codemirror_mode": {
    "name": "ipython",
    "version": 3
   },
   "file_extension": ".py",
   "mimetype": "text/x-python",
   "name": "python",
   "nbconvert_exporter": "python",
   "pygments_lexer": "ipython3",
   "version": "3.10.9"
  }
 },
 "nbformat": 4,
 "nbformat_minor": 2
}
