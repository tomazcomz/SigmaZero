{
 "cells": [
  {
   "cell_type": "markdown",
   "metadata": {},
   "source": [
    "# Treino"
   ]
  },
  {
   "cell_type": "code",
   "execution_count": 1,
   "metadata": {},
   "outputs": [
    {
     "name": "stderr",
     "output_type": "stream",
     "text": [
      "2024-01-02 01:22:32.943276: I tensorflow/core/platform/cpu_feature_guard.cc:182] This TensorFlow binary is optimized to use available CPU instructions in performance-critical operations.\n",
      "To enable the following instructions: SSE4.1 SSE4.2 AVX, in other operations, rebuild TensorFlow with the appropriate compiler flags.\n"
     ]
    },
    {
     "name": "stdout",
     "output_type": "stream",
     "text": [
      "pygame 2.5.2 (SDL 2.28.2, Python 3.10.13)\n",
      "Hello from the pygame community. https://www.pygame.org/contribute.html\n"
     ]
    }
   ],
   "source": [
    "from MCTS import MCTS\n",
    "import tensorflow as tf\n",
    "import optimizar,avaliar,selfplay\n",
    "import Go,Attaxx\n",
    "from ioannina import Neura, get_best_name,exports,opts\n",
    "\n",
    "ARGS = {\n",
    "    'cpuct': 1.5,\n",
    "    'num_searches': 1600\n",
    "}"
   ]
  },
  {
   "cell_type": "code",
   "execution_count": 2,
   "metadata": {},
   "outputs": [],
   "source": [
    "exports()\n",
    "opts()"
   ]
  },
  {
   "cell_type": "markdown",
   "metadata": {},
   "source": [
    "## Go"
   ]
  },
  {
   "cell_type": "markdown",
   "metadata": {},
   "source": [
    "### 7x7"
   ]
  },
  {
   "cell_type": "markdown",
   "metadata": {},
   "source": [
    "Primeira iteração (não se passa nome)"
   ]
  },
  {
   "cell_type": "code",
   "execution_count": null,
   "metadata": {},
   "outputs": [],
   "source": [
    "game=avaliar.makegame('G7x7')\n",
    "rede=Neura(game,n_resblocks=19)\n",
    "print(rede.summary())\n",
    "rede2=Neura(game,n_resblocks=7)\n",
    "print(rede2.summary())"
   ]
  },
  {
   "cell_type": "markdown",
   "metadata": {},
   "source": [
    "Teste de Jogo"
   ]
  },
  {
   "cell_type": "code",
   "execution_count": 3,
   "metadata": {},
   "outputs": [],
   "source": [
    "alpha=MCTS(game,ARGS,rede)"
   ]
  },
  {
   "cell_type": "code",
   "execution_count": null,
   "metadata": {},
   "outputs": [],
   "source": [
    "alpha.play()"
   ]
  },
  {
   "cell_type": "markdown",
   "metadata": {},
   "source": [
    "#### Pipeline"
   ]
  },
  {
   "cell_type": "code",
   "execution_count": 1,
   "metadata": {},
   "outputs": [
    {
     "name": "stderr",
     "output_type": "stream",
     "text": [
      "2024-01-02 01:45:45.664599: I tensorflow/core/platform/cpu_feature_guard.cc:182] This TensorFlow binary is optimized to use available CPU instructions in performance-critical operations.\n",
      "To enable the following instructions: SSE4.1 SSE4.2 AVX, in other operations, rebuild TensorFlow with the appropriate compiler flags.\n"
     ]
    },
    {
     "name": "stdout",
     "output_type": "stream",
     "text": [
      "pygame 2.5.2 (SDL 2.28.2, Python 3.10.13)\n",
      "Hello from the pygame community. https://www.pygame.org/contribute.html\n"
     ]
    }
   ],
   "source": [
    "from MCTS import MCTS\n",
    "import tensorflow as tf\n",
    "import optimizar,avaliar,selfplay\n",
    "import Go,Attaxx\n",
    "from ioannina import Neura, get_best_name,exports,opts"
   ]
  },
  {
   "cell_type": "code",
   "execution_count": 2,
   "metadata": {},
   "outputs": [],
   "source": [
    "game=avaliar.makegame('G9x9')"
   ]
  },
  {
   "cell_type": "code",
   "execution_count": 3,
   "metadata": {},
   "outputs": [
    {
     "ename": "KeyboardInterrupt",
     "evalue": "",
     "output_type": "error",
     "traceback": [
      "\u001b[0;31m---------------------------------------------------------------------------\u001b[0m",
      "\u001b[0;31mKeyboardInterrupt\u001b[0m                         Traceback (most recent call last)",
      "Cell \u001b[0;32mIn[3], line 1\u001b[0m\n\u001b[0;32m----> 1\u001b[0m \u001b[43mselfplay\u001b[49m\u001b[38;5;241;43m.\u001b[39;49m\u001b[43msp\u001b[49m\u001b[43m(\u001b[49m\u001b[43mgame\u001b[49m\u001b[43m)\u001b[49m\n\u001b[1;32m      2\u001b[0m optimizar\u001b[38;5;241m.\u001b[39mtrain(game)\n\u001b[1;32m      3\u001b[0m evaluation \u001b[38;5;241m=\u001b[39m avaliar\u001b[38;5;241m.\u001b[39mavaliar(\u001b[38;5;124m\"\u001b[39m\u001b[38;5;124mG9x9\u001b[39m\u001b[38;5;124m\"\u001b[39m,\u001b[38;5;241m9\u001b[39m)\n",
      "File \u001b[0;32m~/Documents/SigmaZero/selfplay.py:29\u001b[0m, in \u001b[0;36msp\u001b[0;34m(game)\u001b[0m\n\u001b[1;32m     27\u001b[0m \u001b[38;5;28;01mfor\u001b[39;00m i \u001b[38;5;129;01min\u001b[39;00m \u001b[38;5;28mrange\u001b[39m(\u001b[38;5;241m25000\u001b[39m):\n\u001b[1;32m     28\u001b[0m     alpha\u001b[38;5;241m=\u001b[39mMCTS(game,ARGS,teta)\n\u001b[0;32m---> 29\u001b[0m     winner\u001b[38;5;241m=\u001b[39m\u001b[43magent_v_agent\u001b[49m\u001b[43m(\u001b[49m\u001b[43mgame\u001b[49m\u001b[43m,\u001b[49m\u001b[43malpha\u001b[49m\u001b[43m,\u001b[49m\u001b[43malpha\u001b[49m\u001b[43m,\u001b[49m\u001b[38;5;28;43;01mTrue\u001b[39;49;00m\u001b[43m)\u001b[49m\n",
      "File \u001b[0;32m~/Documents/SigmaZero/avaliar.py:31\u001b[0m, in \u001b[0;36magent_v_agent\u001b[0;34m(game, alphai, alphas, sp)\u001b[0m\n\u001b[1;32m     29\u001b[0m \u001b[38;5;28;01mif\u001b[39;00m game\u001b[38;5;241m.\u001b[39mtype\u001b[38;5;241m==\u001b[39m\u001b[38;5;241m0\u001b[39m:\n\u001b[1;32m     30\u001b[0m     \u001b[38;5;28;01mreturn\u001b[39;00m Attaxx\u001b[38;5;241m.\u001b[39magent_v_agent(game,alphai,alphas,sp)\n\u001b[0;32m---> 31\u001b[0m \u001b[38;5;28;01mreturn\u001b[39;00m \u001b[43mGo\u001b[49m\u001b[38;5;241;43m.\u001b[39;49m\u001b[43magent_v_agent\u001b[49m\u001b[43m(\u001b[49m\u001b[43mgame\u001b[49m\u001b[43m,\u001b[49m\u001b[43malphai\u001b[49m\u001b[43m,\u001b[49m\u001b[43malphas\u001b[49m\u001b[43m,\u001b[49m\u001b[43msp\u001b[49m\u001b[43m)\u001b[49m\n",
      "File \u001b[0;32m~/Documents/SigmaZero/Go.py:321\u001b[0m, in \u001b[0;36magent_v_agent\u001b[0;34m(game, alphai, alphas, sp)\u001b[0m\n\u001b[1;32m    319\u001b[0m \u001b[38;5;28;01mwhile\u001b[39;00m game\u001b[38;5;241m.\u001b[39mend\u001b[38;5;241m==\u001b[39m\u001b[38;5;241m0\u001b[39m:\n\u001b[1;32m    320\u001b[0m     \u001b[38;5;28;01mif\u001b[39;00m turn\u001b[38;5;241m==\u001b[39m\u001b[38;5;241m1\u001b[39m:\n\u001b[0;32m--> 321\u001b[0m         action \u001b[38;5;241m=\u001b[39m \u001b[43malphai\u001b[49m\u001b[38;5;241;43m.\u001b[39;49m\u001b[43mplay\u001b[49m\u001b[43m(\u001b[49m\u001b[43m)\u001b[49m\n\u001b[1;32m    322\u001b[0m     \u001b[38;5;28;01melse\u001b[39;00m:\n\u001b[1;32m    323\u001b[0m         action\u001b[38;5;241m=\u001b[39malphas\u001b[38;5;241m.\u001b[39mplay()\n",
      "File \u001b[0;32m~/Documents/SigmaZero/MCTS.py:157\u001b[0m, in \u001b[0;36mMCTS.play\u001b[0;34m(self)\u001b[0m\n\u001b[1;32m    155\u001b[0m     \u001b[38;5;28;01mif\u001b[39;00m \u001b[38;5;28mself\u001b[39m\u001b[38;5;241m.\u001b[39mgame_state\u001b[38;5;241m.\u001b[39mplay_idx\u001b[38;5;241m-\u001b[39m\u001b[38;5;241m1\u001b[39m\u001b[38;5;241m>\u001b[39m\u001b[38;5;28mself\u001b[39m\u001b[38;5;241m.\u001b[39mti \u001b[38;5;129;01mor\u001b[39;00m \u001b[38;5;28mself\u001b[39m\u001b[38;5;241m.\u001b[39mevaluate:\n\u001b[1;32m    156\u001b[0m         p\u001b[38;5;241m=\u001b[39m\u001b[38;5;241m0.75\u001b[39m\u001b[38;5;241m*\u001b[39mp\u001b[38;5;241m+\u001b[39m\u001b[38;5;241m0.25\u001b[39m\u001b[38;5;241m*\u001b[39m\u001b[38;5;241m0.03\u001b[39m \u001b[38;5;66;03m# adding Dirichlet noise to root's prior \u001b[39;00m\n\u001b[0;32m--> 157\u001b[0m     \u001b[43mnode\u001b[49m\u001b[38;5;241;43m.\u001b[39;49m\u001b[43mexpand\u001b[49m\u001b[43m(\u001b[49m\u001b[43mp\u001b[49m\u001b[43m)\u001b[49m \u001b[38;5;66;03m# adding children with policy from the NN to list children\u001b[39;00m\n\u001b[1;32m    160\u001b[0m \u001b[38;5;66;03m# backpropagate\u001b[39;00m\n\u001b[1;32m    161\u001b[0m node\u001b[38;5;241m.\u001b[39mbackprop(v)\n",
      "File \u001b[0;32m~/Documents/SigmaZero/MCTS.py:63\u001b[0m, in \u001b[0;36mNode.expand\u001b[0;34m(self, p)\u001b[0m\n\u001b[1;32m     61\u001b[0m action\u001b[38;5;241m=\u001b[39m\u001b[38;5;28mself\u001b[39m\u001b[38;5;241m.\u001b[39mmcts\u001b[38;5;241m.\u001b[39mget_act(_)\n\u001b[1;32m     62\u001b[0m \u001b[38;5;28;01mif\u001b[39;00m action \u001b[38;5;129;01min\u001b[39;00m \u001b[38;5;28mself\u001b[39m\u001b[38;5;241m.\u001b[39mgame_state\u001b[38;5;241m.\u001b[39mempty_positions:    \u001b[38;5;66;03m# to avoid 'NoneType' error\u001b[39;00m\n\u001b[0;32m---> 63\u001b[0m     next_state \u001b[38;5;241m=\u001b[39m \u001b[38;5;28;43mself\u001b[39;49m\u001b[38;5;241;43m.\u001b[39;49m\u001b[43mgame_state\u001b[49m\u001b[38;5;241;43m.\u001b[39;49m\u001b[43mmove\u001b[49m\u001b[43m(\u001b[49m\u001b[43maction\u001b[49m\u001b[43m)\u001b[49m\n\u001b[1;32m     64\u001b[0m     \u001b[38;5;28;01mif\u001b[39;00m next_state \u001b[38;5;129;01mis\u001b[39;00m \u001b[38;5;28;01mNone\u001b[39;00m:  \u001b[38;5;66;03m# to avoid 'NoneType' error\u001b[39;00m\n\u001b[1;32m     65\u001b[0m         child \u001b[38;5;241m=\u001b[39m \u001b[38;5;28;01mNone\u001b[39;00m\n",
      "File \u001b[0;32m~/Documents/SigmaZero/Go.py:32\u001b[0m, in \u001b[0;36mGameState.move\u001b[0;34m(self, action)\u001b[0m\n\u001b[1;32m     31\u001b[0m \u001b[38;5;28;01mdef\u001b[39;00m \u001b[38;5;21mmove\u001b[39m(\u001b[38;5;28mself\u001b[39m, action):         \u001b[38;5;66;03m# placing a piece on the board\u001b[39;00m\n\u001b[0;32m---> 32\u001b[0m     \u001b[38;5;28;01mif\u001b[39;00m action \u001b[38;5;129;01min\u001b[39;00m \u001b[38;5;28;43mself\u001b[39;49m\u001b[38;5;241;43m.\u001b[39;49m\u001b[43mcheck_possible_moves\u001b[49m\u001b[43m(\u001b[49m\u001b[43m)\u001b[49m \u001b[38;5;129;01mor\u001b[39;00m action \u001b[38;5;241m==\u001b[39m (\u001b[38;5;241m-\u001b[39m\u001b[38;5;241m1\u001b[39m,\u001b[38;5;241m-\u001b[39m\u001b[38;5;241m1\u001b[39m):\n\u001b[1;32m     33\u001b[0m         i,j \u001b[38;5;241m=\u001b[39m action\n\u001b[1;32m     34\u001b[0m         next_board \u001b[38;5;241m=\u001b[39m deepcopy(\u001b[38;5;28mself\u001b[39m\u001b[38;5;241m.\u001b[39mboard)\n",
      "File \u001b[0;32m~/Documents/SigmaZero/Go.py:55\u001b[0m, in \u001b[0;36mGameState.check_possible_moves\u001b[0;34m(self)\u001b[0m\n\u001b[1;32m     52\u001b[0m     i,j\u001b[38;5;241m=\u001b[39mmove\n\u001b[1;32m     53\u001b[0m     \u001b[38;5;66;03m# checking if a position is a territory captured by the opponent of the player playing next for each possible move, in order to avoid suicide,\u001b[39;00m\n\u001b[1;32m     54\u001b[0m     \u001b[38;5;66;03m# and removing moves that would violate the positional superko rule\u001b[39;00m\n\u001b[0;32m---> 55\u001b[0m     \u001b[38;5;28;01mif\u001b[39;00m is_suicide(\u001b[38;5;28mself\u001b[39m\u001b[38;5;241m.\u001b[39mboard,\u001b[38;5;28mself\u001b[39m\u001b[38;5;241m.\u001b[39mturn,i,j) \u001b[38;5;129;01mor\u001b[39;00m \u001b[43mviolates_superko\u001b[49m\u001b[43m(\u001b[49m\u001b[38;5;28;43mself\u001b[39;49m\u001b[38;5;241;43m.\u001b[39;49m\u001b[43mboard\u001b[49m\u001b[43m,\u001b[49m\u001b[38;5;28;43mself\u001b[39;49m\u001b[38;5;241;43m.\u001b[39;49m\u001b[43mturn\u001b[49m\u001b[43m,\u001b[49m\u001b[38;5;28;43mself\u001b[39;49m\u001b[38;5;241;43m.\u001b[39;49m\u001b[43mprevious_boards\u001b[49m\u001b[43m[\u001b[49m\u001b[38;5;28;43mself\u001b[39;49m\u001b[38;5;241;43m.\u001b[39;49m\u001b[43mturn\u001b[49m\u001b[43m]\u001b[49m\u001b[43m,\u001b[49m\u001b[43mi\u001b[49m\u001b[43m,\u001b[49m\u001b[43mj\u001b[49m\u001b[43m)\u001b[49m:\n\u001b[1;32m     56\u001b[0m         moves_to_be_removed\u001b[38;5;241m.\u001b[39madd(move)\n\u001b[1;32m     57\u001b[0m \u001b[38;5;28;01mfor\u001b[39;00m move \u001b[38;5;129;01min\u001b[39;00m moves_to_be_removed:\n",
      "File \u001b[0;32m~/Documents/SigmaZero/Go.py:165\u001b[0m, in \u001b[0;36mviolates_superko\u001b[0;34m(board, turn, previous_board, i, j)\u001b[0m\n\u001b[1;32m    163\u001b[0m new_board[i][j] \u001b[38;5;241m=\u001b[39m turn    \u001b[38;5;66;03m# playing the move in question in a new board\u001b[39;00m\n\u001b[1;32m    164\u001b[0m new_board, _ \u001b[38;5;241m=\u001b[39m check_for_captures(i,j,new_board, turn)   \u001b[38;5;66;03m# removing the opponent's captured pieces after the new move\u001b[39;00m\n\u001b[0;32m--> 165\u001b[0m \u001b[38;5;28;01mif\u001b[39;00m \u001b[43mnp\u001b[49m\u001b[38;5;241;43m.\u001b[39;49m\u001b[43marray_equal\u001b[49m\u001b[43m(\u001b[49m\u001b[43mnew_board\u001b[49m\u001b[43m,\u001b[49m\u001b[43m \u001b[49m\u001b[43mprevious_board\u001b[49m\u001b[43m)\u001b[49m:\n\u001b[1;32m    166\u001b[0m     \u001b[38;5;28;01mreturn\u001b[39;00m \u001b[38;5;28;01mTrue\u001b[39;00m   \u001b[38;5;66;03m# if this move would result in the same board configuration as this player's previous move, then it would violate the ko rule and, consequently, the positional superko rule\u001b[39;00m\n\u001b[1;32m    167\u001b[0m \u001b[38;5;28;01mreturn\u001b[39;00m \u001b[38;5;28;01mFalse\u001b[39;00m\n",
      "File \u001b[0;32m~/anaconda3/envs/lab/lib/python3.10/site-packages/numpy/core/numeric.py:2433\u001b[0m, in \u001b[0;36marray_equal\u001b[0;34m(a1, a2, equal_nan)\u001b[0m\n\u001b[1;32m   2380\u001b[0m \u001b[38;5;250m\u001b[39m\u001b[38;5;124;03m\"\"\"\u001b[39;00m\n\u001b[1;32m   2381\u001b[0m \u001b[38;5;124;03mTrue if two arrays have the same shape and elements, False otherwise.\u001b[39;00m\n\u001b[1;32m   2382\u001b[0m \n\u001b[0;32m   (...)\u001b[0m\n\u001b[1;32m   2430\u001b[0m \u001b[38;5;124;03mTrue\u001b[39;00m\n\u001b[1;32m   2431\u001b[0m \u001b[38;5;124;03m\"\"\"\u001b[39;00m\n\u001b[1;32m   2432\u001b[0m \u001b[38;5;28;01mtry\u001b[39;00m:\n\u001b[0;32m-> 2433\u001b[0m     a1, a2 \u001b[38;5;241m=\u001b[39m \u001b[43masarray\u001b[49m\u001b[43m(\u001b[49m\u001b[43ma1\u001b[49m\u001b[43m)\u001b[49m, asarray(a2)\n\u001b[1;32m   2434\u001b[0m \u001b[38;5;28;01mexcept\u001b[39;00m \u001b[38;5;167;01mException\u001b[39;00m:\n\u001b[1;32m   2435\u001b[0m     \u001b[38;5;28;01mreturn\u001b[39;00m \u001b[38;5;28;01mFalse\u001b[39;00m\n",
      "\u001b[0;31mKeyboardInterrupt\u001b[0m: "
     ]
    }
   ],
   "source": [
    "selfplay.sp(game)\n",
    "optimizar.train(game)\n",
    "evaluation = avaliar.avaliar(\"G9x9\",9)"
   ]
  },
  {
   "cell_type": "code",
   "execution_count": null,
   "metadata": {},
   "outputs": [],
   "source": []
  }
 ],
 "metadata": {
  "kernelspec": {
   "display_name": "Python 3",
   "language": "python",
   "name": "python3"
  },
  "language_info": {
   "codemirror_mode": {
    "name": "ipython",
    "version": 3
   },
   "file_extension": ".py",
   "mimetype": "text/x-python",
   "name": "python",
   "nbconvert_exporter": "python",
   "pygments_lexer": "ipython3",
   "version": "3.10.13"
  }
 },
 "nbformat": 4,
 "nbformat_minor": 2
}
