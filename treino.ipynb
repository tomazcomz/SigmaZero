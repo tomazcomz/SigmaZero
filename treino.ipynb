{
 "cells": [
  {
   "cell_type": "markdown",
   "metadata": {},
   "source": [
    "# Treino"
   ]
  },
  {
   "cell_type": "code",
   "execution_count": 1,
   "metadata": {},
   "outputs": [
    {
     "name": "stdout",
     "output_type": "stream",
     "text": [
      "pygame 2.5.2 (SDL 2.28.3, Python 3.11.5)\n",
      "Hello from the pygame community. https://www.pygame.org/contribute.html\n"
     ]
    }
   ],
   "source": [
    "from MCTS import MCTS\n",
    "import tensorflow as tf\n",
    "import optimizar,avaliar,selfplay\n",
    "import Go,Attaxx\n",
    "from ioannina import Neura, get_best_name,exports,opts\n"
   ]
  },
  {
   "cell_type": "code",
   "execution_count": 2,
   "metadata": {},
   "outputs": [],
   "source": [
    "exports()\n",
    "opts()"
   ]
  },
  {
   "cell_type": "markdown",
   "metadata": {},
   "source": [
    "## Go"
   ]
  },
  {
   "cell_type": "markdown",
   "metadata": {},
   "source": [
    "Primeira iteração (não se passa nome)"
   ]
  },
  {
   "cell_type": "code",
   "execution_count": 5,
   "metadata": {},
   "outputs": [],
   "source": [
    "# game=avaliar.makegame('G7x7')\n",
    "#srede=Neura(game,name=get_best_name(game))\n",
    "# print(rede.summary())\n",
    "# rede2=Neura(game,n_resblocks=7)\n",
    "# print(rede2.summary())"
   ]
  },
  {
   "cell_type": "markdown",
   "metadata": {},
   "source": [
    "Teste de Jogo"
   ]
  },
  {
   "cell_type": "code",
   "execution_count": 6,
   "metadata": {},
   "outputs": [],
   "source": [
    "ARGS = {\n",
    "    'cpuct': 1.5,\n",
    "    'num_searches': 100\n",
    "}\n",
    "alpha=MCTS(game,ARGS,rede)"
   ]
  },
  {
   "cell_type": "code",
   "execution_count": null,
   "metadata": {},
   "outputs": [],
   "source": [
    "alpha.play()"
   ]
  },
  {
   "cell_type": "markdown",
   "metadata": {},
   "source": [
    "#### Pipeline"
   ]
  },
  {
   "cell_type": "code",
   "execution_count": 2,
   "metadata": {},
   "outputs": [],
   "source": [
    "game=avaliar.makegame('G9x9')"
   ]
  },
  {
   "cell_type": "code",
   "execution_count": null,
   "metadata": {},
   "outputs": [],
   "source": [
    "selfplay.sp(game)\n",
    "optimizar.train(game)\n",
    "evaluation = avaliar.avaliar(\"G9x9\",9)"
   ]
  },
  {
   "cell_type": "markdown",
   "metadata": {},
   "source": [
    "### 7x7"
   ]
  },
  {
   "cell_type": "code",
   "execution_count": 1,
   "metadata": {},
   "outputs": [
    {
     "name": "stdout",
     "output_type": "stream",
     "text": [
      "pygame 2.5.2 (SDL 2.28.3, Python 3.11.5)\n",
      "Hello from the pygame community. https://www.pygame.org/contribute.html\n"
     ]
    }
   ],
   "source": [
    "from MCTS import MCTS\n",
    "import tensorflow as tf\n",
    "import optimizar,avaliar,selfplay\n",
    "import Go,Attaxx\n",
    "from ioannina import Neura, get_best_name,exports,opts"
   ]
  },
  {
   "cell_type": "code",
   "execution_count": 2,
   "metadata": {},
   "outputs": [],
   "source": [
    "game=avaliar.makegame('G7x7')"
   ]
  },
  {
   "cell_type": "markdown",
   "metadata": {},
   "source": [
    "Primeira iteração apenas para gerar tabuleiros de treino"
   ]
  },
  {
   "cell_type": "code",
   "execution_count": 3,
   "metadata": {},
   "outputs": [],
   "source": [
    "#selfplay.sp(game)"
   ]
  },
  {
   "cell_type": "markdown",
   "metadata": {},
   "source": [
    "#### Pipeline"
   ]
  },
  {
   "cell_type": "code",
   "execution_count": 3,
   "metadata": {},
   "outputs": [
    {
     "name": "stdout",
     "output_type": "stream",
     "text": [
      "Play chosen: (5, 4)\n",
      "[[0 0 0 0 0 0 0]\n",
      " [0 0 0 0 0 0 0]\n",
      " [0 0 0 0 0 0 0]\n",
      " [0 0 0 0 0 0 0]\n",
      " [0 0 0 0 0 0 0]\n",
      " [0 0 0 0 1 0 0]\n",
      " [0 0 0 0 0 0 0]]\n",
      "Play chosen: (1, 6)\n",
      "[[ 0  0  0  0  0  0  0]\n",
      " [ 0  0  0  0  0  0 -1]\n",
      " [ 0  0  0  0  0  0  0]\n",
      " [ 0  0  0  0  0  0  0]\n",
      " [ 0  0  0  0  0  0  0]\n",
      " [ 0  0  0  0  1  0  0]\n",
      " [ 0  0  0  0  0  0  0]]\n",
      "Play chosen: (4, 0)\n",
      "[[ 0  0  0  0  0  0  0]\n",
      " [ 0  0  0  0  0  0 -1]\n",
      " [ 0  0  0  0  0  0  0]\n",
      " [ 0  0  0  0  0  0  0]\n",
      " [ 1  0  0  0  0  0  0]\n",
      " [ 0  0  0  0  1  0  0]\n",
      " [ 0  0  0  0  0  0  0]]\n",
      "Play chosen: (0, 0)\n",
      "[[-1  0  0  0  0  0  0]\n",
      " [ 0  0  0  0  0  0 -1]\n",
      " [ 0  0  0  0  0  0  0]\n",
      " [ 0  0  0  0  0  0  0]\n",
      " [ 1  0  0  0  0  0  0]\n",
      " [ 0  0  0  0  1  0  0]\n",
      " [ 0  0  0  0  0  0  0]]\n",
      "Play chosen: (3, 3)\n",
      "[[-1  0  0  0  0  0  0]\n",
      " [ 0  0  0  0  0  0 -1]\n",
      " [ 0  0  0  0  0  0  0]\n",
      " [ 0  0  0  1  0  0  0]\n",
      " [ 1  0  0  0  0  0  0]\n",
      " [ 0  0  0  0  1  0  0]\n",
      " [ 0  0  0  0  0  0  0]]\n",
      "Play chosen: (0, 5)\n",
      "[[-1  0  0  0  0 -1  0]\n",
      " [ 0  0  0  0  0  0 -1]\n",
      " [ 0  0  0  0  0  0  0]\n",
      " [ 0  0  0  1  0  0  0]\n",
      " [ 1  0  0  0  0  0  0]\n",
      " [ 0  0  0  0  1  0  0]\n",
      " [ 0  0  0  0  0  0  0]]\n",
      "Play chosen: (1, 1)\n",
      "[[-1  0  0  0  0 -1  0]\n",
      " [ 0  1  0  0  0  0 -1]\n",
      " [ 0  0  0  0  0  0  0]\n",
      " [ 0  0  0  1  0  0  0]\n",
      " [ 1  0  0  0  0  0  0]\n",
      " [ 0  0  0  0  1  0  0]\n",
      " [ 0  0  0  0  0  0  0]]\n",
      "Play chosen: (5, 5)\n",
      "[[-1  0  0  0  0 -1  0]\n",
      " [ 0  1  0  0  0  0 -1]\n",
      " [ 0  0  0  0  0  0  0]\n",
      " [ 0  0  0  1  0  0  0]\n",
      " [ 1  0  0  0  0  0  0]\n",
      " [ 0  0  0  0  1 -1  0]\n",
      " [ 0  0  0  0  0  0  0]]\n",
      "Play chosen: (0, 2)\n",
      "[[-1  0  1  0  0 -1  0]\n",
      " [ 0  1  0  0  0  0 -1]\n",
      " [ 0  0  0  0  0  0  0]\n",
      " [ 0  0  0  1  0  0  0]\n",
      " [ 1  0  0  0  0  0  0]\n",
      " [ 0  0  0  0  1 -1  0]\n",
      " [ 0  0  0  0  0  0  0]]\n",
      "Play chosen: (5, 3)\n",
      "[[-1  0  1  0  0 -1  0]\n",
      " [ 0  1  0  0  0  0 -1]\n",
      " [ 0  0  0  0  0  0  0]\n",
      " [ 0  0  0  1  0  0  0]\n",
      " [ 1  0  0  0  0  0  0]\n",
      " [ 0  0  0 -1  1 -1  0]\n",
      " [ 0  0  0  0  0  0  0]]\n",
      "Play chosen: (4, 6)\n",
      "[[-1  0  1  0  0 -1  0]\n",
      " [ 0  1  0  0  0  0 -1]\n",
      " [ 0  0  0  0  0  0  0]\n",
      " [ 0  0  0  1  0  0  0]\n",
      " [ 1  0  0  0  0  0  1]\n",
      " [ 0  0  0 -1  1 -1  0]\n",
      " [ 0  0  0  0  0  0  0]]\n",
      "Play chosen: (6, 6)\n",
      "[[-1  0  1  0  0 -1  0]\n",
      " [ 0  1  0  0  0  0 -1]\n",
      " [ 0  0  0  0  0  0  0]\n",
      " [ 0  0  0  1  0  0  0]\n",
      " [ 1  0  0  0  0  0  1]\n",
      " [ 0  0  0 -1  1 -1  0]\n",
      " [ 0  0  0  0  0  0 -1]]\n",
      "Play chosen: (0, 6)\n",
      "Play chosen: (4, 5)\n",
      "[[-1  0  1  0  0 -1  0]\n",
      " [ 0  1  0  0  0  0 -1]\n",
      " [ 0  0  0  0  0  0  0]\n",
      " [ 0  0  0  1  0  0  0]\n",
      " [ 1  0  0  0  0  1  1]\n",
      " [ 0  0  0 -1  1 -1  0]\n",
      " [ 0  0  0  0  0  0 -1]]\n",
      "Play chosen: (4, 3)\n",
      "[[-1  0  1  0  0 -1  0]\n",
      " [ 0  1  0  0  0  0 -1]\n",
      " [ 0  0  0  0  0  0  0]\n",
      " [ 0  0  0  1  0  0  0]\n",
      " [ 1  0  0 -1  0  1  1]\n",
      " [ 0  0  0 -1  1 -1  0]\n",
      " [ 0  0  0  0  0  0 -1]]\n",
      "Play chosen: (2, 4)\n",
      "[[-1  0  1  0  0 -1  0]\n",
      " [ 0  1  0  0  0  0 -1]\n",
      " [ 0  0  0  0  1  0  0]\n",
      " [ 0  0  0  1  0  0  0]\n",
      " [ 1  0  0 -1  0  1  1]\n",
      " [ 0  0  0 -1  1 -1  0]\n",
      " [ 0  0  0  0  0  0 -1]]\n",
      "Play chosen: (1, 4)\n",
      "[[-1  0  1  0  0 -1  0]\n",
      " [ 0  1  0  0 -1  0 -1]\n",
      " [ 0  0  0  0  1  0  0]\n",
      " [ 0  0  0  1  0  0  0]\n",
      " [ 1  0  0 -1  0  1  1]\n",
      " [ 0  0  0 -1  1 -1  0]\n",
      " [ 0  0  0  0  0  0 -1]]\n",
      "Play chosen: (2, 0)\n",
      "[[-1  0  1  0  0 -1  0]\n",
      " [ 0  1  0  0 -1  0 -1]\n",
      " [ 1  0  0  0  1  0  0]\n",
      " [ 0  0  0  1  0  0  0]\n",
      " [ 1  0  0 -1  0  1  1]\n",
      " [ 0  0  0 -1  1 -1  0]\n",
      " [ 0  0  0  0  0  0 -1]]\n",
      "Play chosen: (3, 4)\n",
      "[[-1  0  1  0  0 -1  0]\n",
      " [ 0  1  0  0 -1  0 -1]\n",
      " [ 1  0  0  0  1  0  0]\n",
      " [ 0  0  0  1 -1  0  0]\n",
      " [ 1  0  0 -1  0  1  1]\n",
      " [ 0  0  0 -1  1 -1  0]\n",
      " [ 0  0  0  0  0  0 -1]]\n",
      "Play chosen: (2, 1)\n",
      "[[-1  0  1  0  0 -1  0]\n",
      " [ 0  1  0  0 -1  0 -1]\n",
      " [ 1  1  0  0  1  0  0]\n",
      " [ 0  0  0  1 -1  0  0]\n",
      " [ 1  0  0 -1  0  1  1]\n",
      " [ 0  0  0 -1  1 -1  0]\n",
      " [ 0  0  0  0  0  0 -1]]\n",
      "Play chosen: (2, 3)\n",
      "[[-1  0  1  0  0 -1  0]\n",
      " [ 0  1  0  0 -1  0 -1]\n",
      " [ 1  1  0 -1  1  0  0]\n",
      " [ 0  0  0  1 -1  0  0]\n",
      " [ 1  0  0 -1  0  1  1]\n",
      " [ 0  0  0 -1  1 -1  0]\n",
      " [ 0  0  0  0  0  0 -1]]\n",
      "Play chosen: (1, 2)\n",
      "[[-1  0  1  0  0 -1  0]\n",
      " [ 0  1  1  0 -1  0 -1]\n",
      " [ 1  1  0 -1  1  0  0]\n",
      " [ 0  0  0  1 -1  0  0]\n",
      " [ 1  0  0 -1  0  1  1]\n",
      " [ 0  0  0 -1  1 -1  0]\n",
      " [ 0  0  0  0  0  0 -1]]\n"
     ]
    }
   ],
   "source": [
    "selfplay.sp(game)\n",
    "optimizar.train(game)\n",
    "evaluation = avaliar.avaliar(\"G7x7\")"
   ]
  }
 ],
 "metadata": {
  "kernelspec": {
   "display_name": "Python 3",
   "language": "python",
   "name": "python3"
  },
  "language_info": {
   "codemirror_mode": {
    "name": "ipython",
    "version": 3
   },
   "file_extension": ".py",
   "mimetype": "text/x-python",
   "name": "python",
   "nbconvert_exporter": "python",
   "pygments_lexer": "ipython3",
   "version": "3.10.0"
  }
 },
 "nbformat": 4,
 "nbformat_minor": 2
}
