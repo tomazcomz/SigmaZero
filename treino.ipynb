{
 "cells": [
  {
   "cell_type": "markdown",
   "metadata": {},
   "source": [
    "# Treino"
   ]
  },
  {
   "cell_type": "code",
   "execution_count": 1,
   "metadata": {},
   "outputs": [
    {
     "name": "stdout",
     "output_type": "stream",
     "text": [
      "pygame 2.1.2 (SDL 2.0.18, Python 3.10.0)\n",
      "Hello from the pygame community. https://www.pygame.org/contribute.html\n"
     ]
    }
   ],
   "source": [
    "from MCTS import MCTS\n",
    "import optimizar,avaliar,selfplay\n",
    "import Go,Attaxx\n",
    "from ioannina import Neura\n",
    "\n",
    "ARGS = {\n",
    "    'cpuct': 1.5,\n",
    "    'num_searches': 1600\n",
    "}"
   ]
  },
  {
   "cell_type": "markdown",
   "metadata": {},
   "source": [
    "## Go"
   ]
  },
  {
   "cell_type": "markdown",
   "metadata": {},
   "source": [
    "### 7x7"
   ]
  },
  {
   "cell_type": "code",
   "execution_count": null,
   "metadata": {},
   "outputs": [],
   "source": []
  },
  {
   "cell_type": "markdown",
   "metadata": {},
   "source": [
    "Primeira iteração (não se passa nome)"
   ]
  },
  {
   "cell_type": "code",
   "execution_count": 2,
   "metadata": {},
   "outputs": [
    {
     "name": "stdout",
     "output_type": "stream",
     "text": [
      "Model: \"model\"\n",
      "__________________________________________________________________________________________________\n",
      " Layer (type)                   Output Shape         Param #     Connected to                     \n",
      "==================================================================================================\n",
      " input_1 (InputLayer)           [(None, 7, 7, 17)]   0           []                               \n",
      "                                                                                                  \n",
      " conv2d (Conv2D)                (None, 7, 7, 35)     5390        ['input_1[0][0]']                \n",
      "                                                                                                  \n",
      " batch_normalization (BatchNorm  (None, 7, 7, 35)    140         ['conv2d[0][0]']                 \n",
      " alization)                                                                                       \n",
      "                                                                                                  \n",
      " activation (Activation)        (None, 7, 7, 35)     0           ['batch_normalization[0][0]']    \n",
      "                                                                                                  \n",
      " conv2d_1 (Conv2D)              (None, 7, 7, 35)     11060       ['activation[0][0]']             \n",
      "                                                                                                  \n",
      " batch_normalization_1 (BatchNo  (None, 7, 7, 35)    140         ['conv2d_1[0][0]']               \n",
      " rmalization)                                                                                     \n",
      "                                                                                                  \n",
      " activation_1 (Activation)      (None, 7, 7, 35)     0           ['batch_normalization_1[0][0]']  \n",
      "                                                                                                  \n",
      " conv2d_2 (Conv2D)              (None, 7, 7, 35)     11060       ['activation_1[0][0]']           \n",
      "                                                                                                  \n",
      " batch_normalization_2 (BatchNo  (None, 7, 7, 35)    140         ['conv2d_2[0][0]']               \n",
      " rmalization)                                                                                     \n",
      "                                                                                                  \n",
      " add (Add)                      (None, 7, 7, 35)     0           ['batch_normalization_2[0][0]',  \n",
      "                                                                  'activation[0][0]']             \n",
      "                                                                                                  \n",
      " endrestower0 (Activation)      (None, 7, 7, 35)     0           ['add[0][0]']                    \n",
      "                                                                                                  \n",
      " conv2d_3 (Conv2D)              (None, 7, 7, 35)     11060       ['endrestower0[0][0]']           \n",
      "                                                                                                  \n",
      " batch_normalization_3 (BatchNo  (None, 7, 7, 35)    140         ['conv2d_3[0][0]']               \n",
      " rmalization)                                                                                     \n",
      "                                                                                                  \n",
      " activation_2 (Activation)      (None, 7, 7, 35)     0           ['batch_normalization_3[0][0]']  \n",
      "                                                                                                  \n",
      " conv2d_4 (Conv2D)              (None, 7, 7, 35)     11060       ['activation_2[0][0]']           \n",
      "                                                                                                  \n",
      " batch_normalization_4 (BatchNo  (None, 7, 7, 35)    140         ['conv2d_4[0][0]']               \n",
      " rmalization)                                                                                     \n",
      "                                                                                                  \n",
      " add_1 (Add)                    (None, 7, 7, 35)     0           ['batch_normalization_4[0][0]',  \n",
      "                                                                  'endrestower0[0][0]']           \n",
      "                                                                                                  \n",
      " endrestower1 (Activation)      (None, 7, 7, 35)     0           ['add_1[0][0]']                  \n",
      "                                                                                                  \n",
      " conv2d_5 (Conv2D)              (None, 7, 7, 35)     11060       ['endrestower1[0][0]']           \n",
      "                                                                                                  \n",
      " batch_normalization_5 (BatchNo  (None, 7, 7, 35)    140         ['conv2d_5[0][0]']               \n",
      " rmalization)                                                                                     \n",
      "                                                                                                  \n",
      " activation_3 (Activation)      (None, 7, 7, 35)     0           ['batch_normalization_5[0][0]']  \n",
      "                                                                                                  \n",
      " conv2d_6 (Conv2D)              (None, 7, 7, 35)     11060       ['activation_3[0][0]']           \n",
      "                                                                                                  \n",
      " batch_normalization_6 (BatchNo  (None, 7, 7, 35)    140         ['conv2d_6[0][0]']               \n",
      " rmalization)                                                                                     \n",
      "                                                                                                  \n",
      " add_2 (Add)                    (None, 7, 7, 35)     0           ['batch_normalization_6[0][0]',  \n",
      "                                                                  'endrestower1[0][0]']           \n",
      "                                                                                                  \n",
      " endrestower2 (Activation)      (None, 7, 7, 35)     0           ['add_2[0][0]']                  \n",
      "                                                                                                  \n",
      " conv2d_7 (Conv2D)              (None, 7, 7, 35)     11060       ['endrestower2[0][0]']           \n",
      "                                                                                                  \n",
      " batch_normalization_7 (BatchNo  (None, 7, 7, 35)    140         ['conv2d_7[0][0]']               \n",
      " rmalization)                                                                                     \n",
      "                                                                                                  \n",
      " activation_4 (Activation)      (None, 7, 7, 35)     0           ['batch_normalization_7[0][0]']  \n",
      "                                                                                                  \n",
      " conv2d_8 (Conv2D)              (None, 7, 7, 35)     11060       ['activation_4[0][0]']           \n",
      "                                                                                                  \n",
      " batch_normalization_8 (BatchNo  (None, 7, 7, 35)    140         ['conv2d_8[0][0]']               \n",
      " rmalization)                                                                                     \n",
      "                                                                                                  \n",
      " add_3 (Add)                    (None, 7, 7, 35)     0           ['batch_normalization_8[0][0]',  \n",
      "                                                                  'endrestower2[0][0]']           \n",
      "                                                                                                  \n",
      " endrestower3 (Activation)      (None, 7, 7, 35)     0           ['add_3[0][0]']                  \n",
      "                                                                                                  \n",
      " conv2d_9 (Conv2D)              (None, 7, 7, 35)     11060       ['endrestower3[0][0]']           \n",
      "                                                                                                  \n",
      " batch_normalization_9 (BatchNo  (None, 7, 7, 35)    140         ['conv2d_9[0][0]']               \n",
      " rmalization)                                                                                     \n",
      "                                                                                                  \n",
      " activation_5 (Activation)      (None, 7, 7, 35)     0           ['batch_normalization_9[0][0]']  \n",
      "                                                                                                  \n",
      " conv2d_10 (Conv2D)             (None, 7, 7, 35)     11060       ['activation_5[0][0]']           \n",
      "                                                                                                  \n",
      " batch_normalization_10 (BatchN  (None, 7, 7, 35)    140         ['conv2d_10[0][0]']              \n",
      " ormalization)                                                                                    \n",
      "                                                                                                  \n",
      " add_4 (Add)                    (None, 7, 7, 35)     0           ['batch_normalization_10[0][0]', \n",
      "                                                                  'endrestower3[0][0]']           \n",
      "                                                                                                  \n",
      " endrestower4 (Activation)      (None, 7, 7, 35)     0           ['add_4[0][0]']                  \n",
      "                                                                                                  \n",
      " conv2d_11 (Conv2D)             (None, 7, 7, 35)     11060       ['endrestower4[0][0]']           \n",
      "                                                                                                  \n",
      " batch_normalization_11 (BatchN  (None, 7, 7, 35)    140         ['conv2d_11[0][0]']              \n",
      " ormalization)                                                                                    \n",
      "                                                                                                  \n",
      " activation_6 (Activation)      (None, 7, 7, 35)     0           ['batch_normalization_11[0][0]'] \n",
      "                                                                                                  \n",
      " conv2d_12 (Conv2D)             (None, 7, 7, 35)     11060       ['activation_6[0][0]']           \n",
      "                                                                                                  \n",
      " batch_normalization_12 (BatchN  (None, 7, 7, 35)    140         ['conv2d_12[0][0]']              \n",
      " ormalization)                                                                                    \n",
      "                                                                                                  \n",
      " add_5 (Add)                    (None, 7, 7, 35)     0           ['batch_normalization_12[0][0]', \n",
      "                                                                  'endrestower4[0][0]']           \n",
      "                                                                                                  \n",
      " endrestower5 (Activation)      (None, 7, 7, 35)     0           ['add_5[0][0]']                  \n",
      "                                                                                                  \n",
      " conv2d_13 (Conv2D)             (None, 7, 7, 35)     11060       ['endrestower5[0][0]']           \n",
      "                                                                                                  \n",
      " batch_normalization_13 (BatchN  (None, 7, 7, 35)    140         ['conv2d_13[0][0]']              \n",
      " ormalization)                                                                                    \n",
      "                                                                                                  \n",
      " activation_7 (Activation)      (None, 7, 7, 35)     0           ['batch_normalization_13[0][0]'] \n",
      "                                                                                                  \n",
      " conv2d_14 (Conv2D)             (None, 7, 7, 35)     11060       ['activation_7[0][0]']           \n",
      "                                                                                                  \n",
      " batch_normalization_14 (BatchN  (None, 7, 7, 35)    140         ['conv2d_14[0][0]']              \n",
      " ormalization)                                                                                    \n",
      "                                                                                                  \n",
      " add_6 (Add)                    (None, 7, 7, 35)     0           ['batch_normalization_14[0][0]', \n",
      "                                                                  'endrestower5[0][0]']           \n",
      "                                                                                                  \n",
      " endrestower6 (Activation)      (None, 7, 7, 35)     0           ['add_6[0][0]']                  \n",
      "                                                                                                  \n",
      " conv2d_15 (Conv2D)             (None, 7, 7, 1)      36          ['endrestower6[0][0]']           \n",
      "                                                                                                  \n",
      " batch_normalization_15 (BatchN  (None, 7, 7, 1)     4           ['conv2d_15[0][0]']              \n",
      " ormalization)                                                                                    \n",
      "                                                                                                  \n",
      " activation_8 (Activation)      (None, 7, 7, 1)      0           ['batch_normalization_15[0][0]'] \n",
      "                                                                                                  \n",
      " convpol (Conv2D)               (None, 7, 7, 2)      72          ['endrestower6[0][0]']           \n",
      "                                                                                                  \n",
      " flatten (Flatten)              (None, 49)           0           ['activation_8[0][0]']           \n",
      "                                                                                                  \n",
      " bnpol (BatchNormalization)     (None, 7, 7, 2)      8           ['convpol[0][0]']                \n",
      "                                                                                                  \n",
      " dense (Dense)                  (None, 35)           1750        ['flatten[0][0]']                \n",
      "                                                                                                  \n",
      " rnlpol (Activation)            (None, 7, 7, 2)      0           ['bnpol[0][0]']                  \n",
      "                                                                                                  \n",
      " activation_9 (Activation)      (None, 35)           0           ['dense[0][0]']                  \n",
      "                                                                                                  \n",
      " polflat (Flatten)              (None, 98)           0           ['rnlpol[0][0]']                 \n",
      "                                                                                                  \n",
      " dense_1 (Dense)                (None, 1)            36          ['activation_9[0][0]']           \n",
      "                                                                                                  \n",
      " polout (Dense)                 (None, 50)           4950        ['polflat[0][0]']                \n",
      "                                                                                                  \n",
      " valout (Activation)            (None, 1)            0           ['dense_1[0][0]']                \n",
      "                                                                                                  \n",
      "==================================================================================================\n",
      "Total params: 169,186\n",
      "Trainable params: 168,130\n",
      "Non-trainable params: 1,056\n",
      "__________________________________________________________________________________________________\n"
     ]
    }
   ],
   "source": [
    "game=avaliar.makegame('G7x7')\n",
    "rede=Neura(game,n_resblocks=19)\n",
    "rede.summary()\n",
    "rede2=Neura(game,n_resblocks=7)\n",
    "rede2.summary()"
   ]
  },
  {
   "cell_type": "markdown",
   "metadata": {},
   "source": [
    "Teste de Jogo"
   ]
  },
  {
   "cell_type": "code",
   "execution_count": 3,
   "metadata": {},
   "outputs": [],
   "source": [
    "alpha=MCTS(game,ARGS,rede)"
   ]
  },
  {
   "cell_type": "code",
   "execution_count": null,
   "metadata": {},
   "outputs": [],
   "source": [
    "alpha.play()"
   ]
  },
  {
   "cell_type": "code",
   "execution_count": null,
   "metadata": {},
   "outputs": [],
   "source": [
    "alpha2=MCTS(game,ARGS,rede2)"
   ]
  },
  {
   "cell_type": "code",
   "execution_count": null,
   "metadata": {},
   "outputs": [],
   "source": [
    "alpha2.play()"
   ]
  },
  {
   "cell_type": "markdown",
   "metadata": {},
   "source": [
    "#### Pipeline"
   ]
  },
  {
   "cell_type": "code",
   "execution_count": null,
   "metadata": {},
   "outputs": [],
   "source": []
  }
 ],
 "metadata": {
  "kernelspec": {
   "display_name": "Python 3",
   "language": "python",
   "name": "python3"
  },
  "language_info": {
   "codemirror_mode": {
    "name": "ipython",
    "version": 3
   },
   "file_extension": ".py",
   "mimetype": "text/x-python",
   "name": "python",
   "nbconvert_exporter": "python",
   "pygments_lexer": "ipython3",
   "version": "3.10.0"
  }
 },
 "nbformat": 4,
 "nbformat_minor": 2
}
