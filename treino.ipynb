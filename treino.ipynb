{
 "cells": [
  {
   "cell_type": "markdown",
   "metadata": {},
   "source": [
    "# Treino"
   ]
  },
  {
   "cell_type": "code",
   "execution_count": 1,
   "metadata": {},
   "outputs": [
    {
     "name": "stdout",
     "output_type": "stream",
     "text": [
      "pygame 2.1.2 (SDL 2.0.18, Python 3.10.0)\n",
      "Hello from the pygame community. https://www.pygame.org/contribute.html\n"
     ]
    }
   ],
   "source": [
    "from MCTS import MCTS\n",
    "import optimizar,avaliar,selfplay\n",
    "import Go,Attaxx\n",
    "from ioannina import Neura\n",
    "\n",
    "ARGS = {\n",
    "    'cpuct': 1.5,\n",
    "    'num_searches': 1600\n",
    "}\n"
   ]
  },
  {
   "cell_type": "markdown",
   "metadata": {},
   "source": [
    "## Go"
   ]
  },
  {
   "cell_type": "markdown",
   "metadata": {},
   "source": [
    "### 7x7"
   ]
  },
  {
   "cell_type": "markdown",
   "metadata": {},
   "source": [
    "Primeira iteração"
   ]
  },
  {
   "cell_type": "code",
   "execution_count": 2,
   "metadata": {},
   "outputs": [],
   "source": [
    "game=avaliar.makegame('G7x7')\n",
    "rede=Neura(game,'Eakesgo7')\n",
    "#rede.summary()"
   ]
  },
  {
   "cell_type": "markdown",
   "metadata": {},
   "source": [
    "Teste de Jogo"
   ]
  },
  {
   "cell_type": "code",
   "execution_count": 3,
   "metadata": {},
   "outputs": [],
   "source": [
    "alpha=MCTS(game,ARGS,rede)"
   ]
  },
  {
   "cell_type": "code",
   "execution_count": 4,
   "metadata": {},
   "outputs": [
    {
     "name": "stdout",
     "output_type": "stream",
     "text": [
      "inicio  1703983440.5438714\n",
      "antes  1703983440.5438714\n",
      "depois  1703983441.037717\n"
     ]
    },
    {
     "ename": "IndexError",
     "evalue": "index 7 is out of bounds for axis 0 with size 7",
     "output_type": "error",
     "traceback": [
      "\u001b[1;31m---------------------------------------------------------------------------\u001b[0m",
      "\u001b[1;31mIndexError\u001b[0m                                Traceback (most recent call last)",
      "Input \u001b[1;32mIn [4]\u001b[0m, in \u001b[0;36m<cell line: 1>\u001b[1;34m()\u001b[0m\n\u001b[1;32m----> 1\u001b[0m \u001b[43malpha\u001b[49m\u001b[38;5;241;43m.\u001b[39;49m\u001b[43mplay\u001b[49m\u001b[43m(\u001b[49m\u001b[43m)\u001b[49m\n",
      "File \u001b[1;32mc:\\Users\\Tomaz com Z\\Desktop\\Uni\\3ano\\docs\\lab\\SigmaZero\\MCTS.py:144\u001b[0m, in \u001b[0;36mMCTS.play\u001b[1;34m(self)\u001b[0m\n\u001b[0;32m    142\u001b[0m     \u001b[38;5;28;01mif\u001b[39;00m \u001b[38;5;28mself\u001b[39m\u001b[38;5;241m.\u001b[39mgame_state\u001b[38;5;241m.\u001b[39mplay_idx\u001b[38;5;241m-\u001b[39m\u001b[38;5;241m1\u001b[39m\u001b[38;5;241m>\u001b[39m\u001b[38;5;28mself\u001b[39m\u001b[38;5;241m.\u001b[39mti \u001b[38;5;129;01mor\u001b[39;00m \u001b[38;5;28mself\u001b[39m\u001b[38;5;241m.\u001b[39mevaluate:\n\u001b[0;32m    143\u001b[0m         p\u001b[38;5;241m=\u001b[39m\u001b[38;5;241m0.75\u001b[39m\u001b[38;5;241m*\u001b[39mp\u001b[38;5;241m+\u001b[39m\u001b[38;5;241m0.25\u001b[39m\u001b[38;5;241m*\u001b[39m\u001b[38;5;241m0.03\u001b[39m \u001b[38;5;66;03m# adding Dirichlet noise to root's prior \u001b[39;00m\n\u001b[1;32m--> 144\u001b[0m     \u001b[43mnode\u001b[49m\u001b[38;5;241;43m.\u001b[39;49m\u001b[43mexpand\u001b[49m\u001b[43m(\u001b[49m\u001b[43mp\u001b[49m\u001b[43m)\u001b[49m \u001b[38;5;66;03m# adding children with policy from the NN to list children\u001b[39;00m\n\u001b[0;32m    145\u001b[0m     \u001b[38;5;28mprint\u001b[39m(\u001b[38;5;124m'\u001b[39m\u001b[38;5;124mfim \u001b[39m\u001b[38;5;124m'\u001b[39m,time\u001b[38;5;241m.\u001b[39mtime())\n\u001b[0;32m    147\u001b[0m \u001b[38;5;66;03m# backpropagate\u001b[39;00m\n",
      "File \u001b[1;32mc:\\Users\\Tomaz com Z\\Desktop\\Uni\\3ano\\docs\\lab\\SigmaZero\\MCTS.py:60\u001b[0m, in \u001b[0;36mNode.expand\u001b[1;34m(self, p)\u001b[0m\n\u001b[0;32m     58\u001b[0m \u001b[38;5;28;01mfor\u001b[39;00m _ \u001b[38;5;129;01min\u001b[39;00m \u001b[38;5;28mrange\u001b[39m(\u001b[38;5;28mself\u001b[39m\u001b[38;5;241m.\u001b[39mpossible):\n\u001b[0;32m     59\u001b[0m     action\u001b[38;5;241m=\u001b[39m\u001b[38;5;28mself\u001b[39m\u001b[38;5;241m.\u001b[39mmcts\u001b[38;5;241m.\u001b[39mget_act(_)\n\u001b[1;32m---> 60\u001b[0m     next_state \u001b[38;5;241m=\u001b[39m \u001b[38;5;28;43mself\u001b[39;49m\u001b[38;5;241;43m.\u001b[39;49m\u001b[43mgame_state\u001b[49m\u001b[38;5;241;43m.\u001b[39;49m\u001b[43mmove\u001b[49m\u001b[43m(\u001b[49m\u001b[43maction\u001b[49m\u001b[43m)\u001b[49m\n\u001b[0;32m     61\u001b[0m     child \u001b[38;5;241m=\u001b[39m Node(next_state,\u001b[38;5;28mself\u001b[39m\u001b[38;5;241m.\u001b[39margs, parent\u001b[38;5;241m=\u001b[39m\u001b[38;5;28mself\u001b[39m, p_action\u001b[38;5;241m=\u001b[39maction, prior_prob\u001b[38;5;241m=\u001b[39mp[_],mcts\u001b[38;5;241m=\u001b[39m\u001b[38;5;28mself\u001b[39m\u001b[38;5;241m.\u001b[39mmcts)\n\u001b[0;32m     62\u001b[0m     \u001b[38;5;28mself\u001b[39m\u001b[38;5;241m.\u001b[39mchildren\u001b[38;5;241m.\u001b[39mappend(child)\n",
      "File \u001b[1;32mc:\\Users\\Tomaz com Z\\Desktop\\Uni\\3ano\\docs\\lab\\SigmaZero\\Go.py:35\u001b[0m, in \u001b[0;36mGameState.move\u001b[1;34m(self, action)\u001b[0m\n\u001b[0;32m     33\u001b[0m next_board \u001b[38;5;241m=\u001b[39m deepcopy(\u001b[38;5;28mself\u001b[39m\u001b[38;5;241m.\u001b[39mboard)\n\u001b[0;32m     34\u001b[0m next_board[i][j] \u001b[38;5;241m=\u001b[39m \u001b[38;5;28mself\u001b[39m\u001b[38;5;241m.\u001b[39mturn\n\u001b[1;32m---> 35\u001b[0m next_board, next_empty_positions \u001b[38;5;241m=\u001b[39m \u001b[43mcheck_for_captures\u001b[49m\u001b[43m(\u001b[49m\u001b[43mi\u001b[49m\u001b[43m,\u001b[49m\u001b[43mj\u001b[49m\u001b[43m,\u001b[49m\u001b[43mnext_board\u001b[49m\u001b[43m,\u001b[49m\u001b[43m \u001b[49m\u001b[38;5;28;43mself\u001b[39;49m\u001b[38;5;241;43m.\u001b[39;49m\u001b[43mturn\u001b[49m\u001b[43m,\u001b[49m\u001b[43m \u001b[49m\u001b[38;5;28;43mself\u001b[39;49m\u001b[38;5;241;43m.\u001b[39;49m\u001b[43mempty_positions\u001b[49m\u001b[43m)\u001b[49m\n\u001b[0;32m     36\u001b[0m next_previous_boards \u001b[38;5;241m=\u001b[39m deepcopy(\u001b[38;5;28mself\u001b[39m\u001b[38;5;241m.\u001b[39mprevious_boards)\n\u001b[0;32m     37\u001b[0m next_previous_boards[\u001b[38;5;28mself\u001b[39m\u001b[38;5;241m.\u001b[39mturn] \u001b[38;5;241m=\u001b[39m deepcopy(next_board)\n",
      "File \u001b[1;32mc:\\Users\\Tomaz com Z\\Desktop\\Uni\\3ano\\docs\\lab\\SigmaZero\\Go.py:151\u001b[0m, in \u001b[0;36mcheck_for_captures\u001b[1;34m(i, j, board, turn, empty_positions)\u001b[0m\n\u001b[0;32m    149\u001b[0m \u001b[38;5;28;01mfor\u001b[39;00m position \u001b[38;5;129;01min\u001b[39;00m positions_to_be_checked:\n\u001b[0;32m    150\u001b[0m     i,j \u001b[38;5;241m=\u001b[39m position\n\u001b[1;32m--> 151\u001b[0m     \u001b[38;5;28;01mif\u001b[39;00m \u001b[43mboard\u001b[49m\u001b[43m[\u001b[49m\u001b[43mi\u001b[49m\u001b[43m]\u001b[49m\u001b[43m[\u001b[49m\u001b[43mj\u001b[49m\u001b[43m]\u001b[49m \u001b[38;5;241m!=\u001b[39m player_checked:\n\u001b[0;32m    152\u001b[0m         \u001b[38;5;28;01mcontinue\u001b[39;00m    \u001b[38;5;66;03m# only checks for captured pieces of the player who didn't make the last move\u001b[39;00m\n\u001b[0;32m    153\u001b[0m     captured_group \u001b[38;5;241m=\u001b[39m flood_fill(i,j,board)\n",
      "\u001b[1;31mIndexError\u001b[0m: index 7 is out of bounds for axis 0 with size 7"
     ]
    }
   ],
   "source": [
    "alpha.play()"
   ]
  },
  {
   "cell_type": "markdown",
   "metadata": {},
   "source": [
    "#### Pipeline"
   ]
  },
  {
   "cell_type": "code",
   "execution_count": null,
   "metadata": {},
   "outputs": [],
   "source": []
  }
 ],
 "metadata": {
  "kernelspec": {
   "display_name": "Python 3",
   "language": "python",
   "name": "python3"
  },
  "language_info": {
   "codemirror_mode": {
    "name": "ipython",
    "version": 3
   },
   "file_extension": ".py",
   "mimetype": "text/x-python",
   "name": "python",
   "nbconvert_exporter": "python",
   "pygments_lexer": "ipython3",
   "version": "3.10.0"
  }
 },
 "nbformat": 4,
 "nbformat_minor": 2
}
