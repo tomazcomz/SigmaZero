{
 "cells": [
  {
   "cell_type": "code",
   "execution_count": 1,
   "metadata": {},
   "outputs": [
    {
     "name": "stdout",
     "output_type": "stream",
     "text": [
      "pygame 2.1.2 (SDL 2.0.18, Python 3.10.0)\n",
      "Hello from the pygame community. https://www.pygame.org/contribute.html\n"
     ]
    }
   ],
   "source": [
    "import socket\n",
    "import random\n",
    "import time\n",
    "import avaliar\n",
    "from MCTS import MCTS\n",
    "from ioannina import Neura\n",
    "import Go,Attaxx\n",
    "\n",
    "\n",
    "ARGS = {\n",
    "    'cpuct': 1.5,\n",
    "    'num_searches': 1600\n",
    "}\n"
   ]
  },
  {
   "cell_type": "code",
   "execution_count": 2,
   "metadata": {},
   "outputs": [],
   "source": [
    "def generate_random_move_attaxx():     # ATTAXX\n",
    "    x = random.randint(0, 3)\n",
    "    y = random.randint(0, 3)\n",
    "    x2 = random.randint(0, 3)\n",
    "    y2 = random.randint(0, 3)\n",
    "    return f\"MOVE {x},{y},{x2},{y2}\""
   ]
  },
  {
   "cell_type": "code",
   "execution_count": 3,
   "metadata": {},
   "outputs": [],
   "source": [
    "def generate_random_move_go():     # GO\n",
    "    x = random.randint(0, 6)\n",
    "    y = random.randint(0, 6)\n",
    "    return f\"MOVE {x},{y}\""
   ]
  },
  {
   "cell_type": "code",
   "execution_count": 4,
   "metadata": {},
   "outputs": [],
   "source": [
    "def choose_move_go():\n",
    "    pass"
   ]
  },
  {
   "cell_type": "code",
   "execution_count": 5,
   "metadata": {},
   "outputs": [],
   "source": [
    "def choose_move_attaxx():\n",
    "    pass"
   ]
  },
  {
   "cell_type": "code",
   "execution_count": 6,
   "metadata": {},
   "outputs": [],
   "source": [
    "def choose_move(game_name):   # returns the move in the form \"MOVE X,Y\"\n",
    "    if game_name=='go':\n",
    "        return generate_random_move_go()\n",
    "        return choose_move_go()\n",
    "    else:\n",
    "        return generate_random_move_attaxx()\n",
    "        return choose_move_attaxx()"
   ]
  },
  {
   "cell_type": "code",
   "execution_count": 7,
   "metadata": {},
   "outputs": [],
   "source": [
    "def connect_to_server(host='localhost', port=12345):\n",
    "    client_socket = socket.socket(socket.AF_INET, socket.SOCK_STREAM)\n",
    "    client_socket.connect((host, port))\n",
    "\n",
    "    response = client_socket.recv(1024).decode()\n",
    "    print(f\"Server ResponseINIT: {response}\")\n",
    "\n",
    "    Game = response[-4:]\n",
    "    print(\"Playing:\", Game)\n",
    "    if Game[0]=='A':\n",
    "        game_name = 'attaxx'\n",
    "    else:\n",
    "        game_name = 'go'\n",
    "    n = int(Game[1])\n",
    "\n",
    "    if \"1\" in response:\n",
    "        ag=1\n",
    "    else:\n",
    "        ag=2\n",
    "    first=True\n",
    "\n",
    "    game_state=avaliar.makegame(Game)\n",
    "    teta=Neura(game_state,'Eakesgo7')\n",
    "    alpha=MCTS(game_state,ARGS,teta)\n",
    "\n",
    "    while True:\n",
    "        # Generate and send a random move\n",
    "        if ag == 1 or not first:\n",
    "            move = alpha.play()\n",
    "            time.sleep(1)\n",
    "            smove=str(move)\n",
    "            client_socket.send(smove.encode())\n",
    "            print(\"Send:\",move)\n",
    "        \n",
    "            # Wait for server response\n",
    "            response = client_socket.recv(1024).decode()\n",
    "            print(f\"Server Response1: {response}\")\n",
    "            if response == \"INVALID\":\n",
    "                continue\n",
    "            if \"END\" in response: break\n",
    "            game_state=game_state.move(move)\n",
    "            \n",
    "        first=False\n",
    "        response = client_socket.recv(1024).decode()\n",
    "        if response == \"PASS\":\n",
    "            game_state = game_state.pass_turn()\n",
    "        else:\n",
    "            i=response[5]\n",
    "            j=response[7]\n",
    "            if game_name == \"attaxx\":\n",
    "                i2=response[9]\n",
    "                j2=response[11]\n",
    "        action=(int(i),int(j))\n",
    "        print(f\"Server Response2: {response}\")\n",
    "        if \"END\" in response: break\n",
    "        game_state=game_state.move(action)\n",
    "        alpha.cut(action)\n",
    "\n",
    "    client_socket.close()"
   ]
  },
  {
   "cell_type": "code",
   "execution_count": 8,
   "metadata": {},
   "outputs": [
    {
     "name": "stdout",
     "output_type": "stream",
     "text": [
      "Server ResponseINIT: AG1 G7x7\n",
      "Playing: G7x7\n"
     ]
    },
    {
     "name": "stdout",
     "output_type": "stream",
     "text": [
      "[50, (0, 0), (1, 0), (2, 0), (3, 0), (4, 0), (5, 0), (6, 0), (0, 1), (1, 1), (2, 1), (3, 1), (4, 1), (5, 1), (6, 1), (0, 2), (1, 2), (2, 2), (3, 2), (4, 2), (5, 2), (6, 2), (0, 3), (1, 3), (2, 3), (3, 3), (4, 3), (5, 3), (6, 3), (0, 4), (1, 4), (2, 4), (3, 4), (4, 4), (5, 4), (6, 4), (0, 5), (1, 5), (2, 5), (3, 5), (4, 5), (5, 5), (6, 5), (0, 6), (1, 6), (2, 6), (3, 6), (4, 6), (5, 6), (6, 6)]\n"
     ]
    },
    {
     "ename": "AttributeError",
     "evalue": "'Neura' object has no attribute 'predict'",
     "output_type": "error",
     "traceback": [
      "\u001b[1;31m---------------------------------------------------------------------------\u001b[0m",
      "\u001b[1;31mAttributeError\u001b[0m                            Traceback (most recent call last)",
      "Input \u001b[1;32mIn [8]\u001b[0m, in \u001b[0;36m<cell line: 1>\u001b[1;34m()\u001b[0m\n\u001b[0;32m      1\u001b[0m \u001b[38;5;28;01mif\u001b[39;00m \u001b[38;5;18m__name__\u001b[39m \u001b[38;5;241m==\u001b[39m \u001b[38;5;124m\"\u001b[39m\u001b[38;5;124m__main__\u001b[39m\u001b[38;5;124m\"\u001b[39m:\n\u001b[1;32m----> 2\u001b[0m     \u001b[43mconnect_to_server\u001b[49m\u001b[43m(\u001b[49m\u001b[43m)\u001b[49m\n",
      "Input \u001b[1;32mIn [7]\u001b[0m, in \u001b[0;36mconnect_to_server\u001b[1;34m(host, port)\u001b[0m\n\u001b[0;32m     26\u001b[0m \u001b[38;5;28;01mwhile\u001b[39;00m \u001b[38;5;28;01mTrue\u001b[39;00m:\n\u001b[0;32m     27\u001b[0m     \u001b[38;5;66;03m# Generate and send a random move\u001b[39;00m\n\u001b[0;32m     28\u001b[0m     \u001b[38;5;28;01mif\u001b[39;00m ag \u001b[38;5;241m==\u001b[39m \u001b[38;5;241m1\u001b[39m \u001b[38;5;129;01mor\u001b[39;00m \u001b[38;5;129;01mnot\u001b[39;00m first:\n\u001b[1;32m---> 29\u001b[0m         move \u001b[38;5;241m=\u001b[39m \u001b[43malpha\u001b[49m\u001b[38;5;241;43m.\u001b[39;49m\u001b[43mplay\u001b[49m\u001b[43m(\u001b[49m\u001b[43m)\u001b[49m\n\u001b[0;32m     30\u001b[0m         time\u001b[38;5;241m.\u001b[39msleep(\u001b[38;5;241m1\u001b[39m)\n\u001b[0;32m     31\u001b[0m         smove\u001b[38;5;241m=\u001b[39m\u001b[38;5;28mstr\u001b[39m(move)\n",
      "File \u001b[1;32mc:\\Users\\Tomaz com Z\\Desktop\\Uni\\3ano\\docs\\lab\\SigmaZero\\MCTS.py:139\u001b[0m, in \u001b[0;36mMCTS.play\u001b[1;34m(self)\u001b[0m\n\u001b[0;32m    137\u001b[0m \u001b[38;5;28;01melse\u001b[39;00m:\n\u001b[0;32m    138\u001b[0m     board\u001b[38;5;241m=\u001b[39mnode\u001b[38;5;241m.\u001b[39mgame_state\u001b[38;5;241m.\u001b[39mboard\n\u001b[1;32m--> 139\u001b[0m p, v \u001b[38;5;241m=\u001b[39m \u001b[38;5;28;43mself\u001b[39;49m\u001b[38;5;241;43m.\u001b[39;49m\u001b[43mmodel\u001b[49m\u001b[38;5;241;43m.\u001b[39;49m\u001b[43mpredict\u001b[49m(np\u001b[38;5;241m.\u001b[39marray([board]))\n\u001b[0;32m    140\u001b[0m p\u001b[38;5;241m=\u001b[39mp[\u001b[38;5;241m0\u001b[39m]\n\u001b[0;32m    141\u001b[0m v\u001b[38;5;241m=\u001b[39mv[\u001b[38;5;241m0\u001b[39m][\u001b[38;5;241m0\u001b[39m]\n",
      "\u001b[1;31mAttributeError\u001b[0m: 'Neura' object has no attribute 'predict'"
     ]
    }
   ],
   "source": [
    "if __name__ == \"__main__\":\n",
    "    connect_to_server()"
   ]
  }
 ],
 "metadata": {
  "kernelspec": {
   "display_name": "base",
   "language": "python",
   "name": "python3"
  },
  "language_info": {
   "codemirror_mode": {
    "name": "ipython",
    "version": 3
   },
   "file_extension": ".py",
   "mimetype": "text/x-python",
   "name": "python",
   "nbconvert_exporter": "python",
   "pygments_lexer": "ipython3",
   "version": "3.10.0"
  }
 },
 "nbformat": 4,
 "nbformat_minor": 2
}
